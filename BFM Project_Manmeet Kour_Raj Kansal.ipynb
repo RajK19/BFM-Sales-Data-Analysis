{
 "cells": [
  {
   "cell_type": "code",
   "execution_count": 42,
   "metadata": {},
   "outputs": [],
   "source": [
    "import pandas as pd\n",
    "import numpy as np"
   ]
  },
  {
   "cell_type": "code",
   "execution_count": 43,
   "metadata": {},
   "outputs": [],
   "source": [
    "data = pd.read_csv('amazon_sales_data.csv',encoding='unicode_escape')"
   ]
  },
  {
   "cell_type": "code",
   "execution_count": 44,
   "metadata": {
    "scrolled": true
   },
   "outputs": [
    {
     "data": {
      "text/html": [
       "<div>\n",
       "<style scoped>\n",
       "    .dataframe tbody tr th:only-of-type {\n",
       "        vertical-align: middle;\n",
       "    }\n",
       "\n",
       "    .dataframe tbody tr th {\n",
       "        vertical-align: top;\n",
       "    }\n",
       "\n",
       "    .dataframe thead th {\n",
       "        text-align: right;\n",
       "    }\n",
       "</style>\n",
       "<table border=\"1\" class=\"dataframe\">\n",
       "  <thead>\n",
       "    <tr style=\"text-align: right;\">\n",
       "      <th></th>\n",
       "      <th>ORDERNUMBER</th>\n",
       "      <th>QUANTITYORDERED</th>\n",
       "      <th>PRICEEACH</th>\n",
       "      <th>ORDERLINENUMBER</th>\n",
       "      <th>SALES</th>\n",
       "      <th>ORDERDATE</th>\n",
       "      <th>STATUS</th>\n",
       "      <th>QTR_ID</th>\n",
       "      <th>MONTH_ID</th>\n",
       "      <th>YEAR_ID</th>\n",
       "      <th>...</th>\n",
       "      <th>ADDRESSLINE1</th>\n",
       "      <th>ADDRESSLINE2</th>\n",
       "      <th>CITY</th>\n",
       "      <th>STATE</th>\n",
       "      <th>POSTALCODE</th>\n",
       "      <th>COUNTRY</th>\n",
       "      <th>TERRITORY</th>\n",
       "      <th>CONTACTLASTNAME</th>\n",
       "      <th>CONTACTFIRSTNAME</th>\n",
       "      <th>DEALSIZE</th>\n",
       "    </tr>\n",
       "  </thead>\n",
       "  <tbody>\n",
       "    <tr>\n",
       "      <th>0</th>\n",
       "      <td>10100</td>\n",
       "      <td>30</td>\n",
       "      <td>100.00</td>\n",
       "      <td>3</td>\n",
       "      <td>5151.00</td>\n",
       "      <td>1/6/2003 0:00</td>\n",
       "      <td>Shipped</td>\n",
       "      <td>1</td>\n",
       "      <td>1</td>\n",
       "      <td>2003</td>\n",
       "      <td>...</td>\n",
       "      <td>2304 Long Airport Avenue</td>\n",
       "      <td>NaN</td>\n",
       "      <td>Nashua</td>\n",
       "      <td>NH</td>\n",
       "      <td>62005</td>\n",
       "      <td>USA</td>\n",
       "      <td>NaN</td>\n",
       "      <td>Young</td>\n",
       "      <td>Valarie</td>\n",
       "      <td>Medium</td>\n",
       "    </tr>\n",
       "    <tr>\n",
       "      <th>1</th>\n",
       "      <td>10100</td>\n",
       "      <td>50</td>\n",
       "      <td>67.80</td>\n",
       "      <td>2</td>\n",
       "      <td>3390.00</td>\n",
       "      <td>1/6/2003 0:00</td>\n",
       "      <td>Shipped</td>\n",
       "      <td>1</td>\n",
       "      <td>1</td>\n",
       "      <td>2003</td>\n",
       "      <td>...</td>\n",
       "      <td>2304 Long Airport Avenue</td>\n",
       "      <td>NaN</td>\n",
       "      <td>Nashua</td>\n",
       "      <td>NH</td>\n",
       "      <td>62005</td>\n",
       "      <td>USA</td>\n",
       "      <td>NaN</td>\n",
       "      <td>Young</td>\n",
       "      <td>Valarie</td>\n",
       "      <td>Medium</td>\n",
       "    </tr>\n",
       "    <tr>\n",
       "      <th>2</th>\n",
       "      <td>10100</td>\n",
       "      <td>22</td>\n",
       "      <td>86.51</td>\n",
       "      <td>4</td>\n",
       "      <td>1903.22</td>\n",
       "      <td>1/6/2003 0:00</td>\n",
       "      <td>Shipped</td>\n",
       "      <td>1</td>\n",
       "      <td>1</td>\n",
       "      <td>2003</td>\n",
       "      <td>...</td>\n",
       "      <td>2304 Long Airport Avenue</td>\n",
       "      <td>NaN</td>\n",
       "      <td>Nashua</td>\n",
       "      <td>NH</td>\n",
       "      <td>62005</td>\n",
       "      <td>USA</td>\n",
       "      <td>NaN</td>\n",
       "      <td>Young</td>\n",
       "      <td>Valarie</td>\n",
       "      <td>Small</td>\n",
       "    </tr>\n",
       "    <tr>\n",
       "      <th>3</th>\n",
       "      <td>10100</td>\n",
       "      <td>49</td>\n",
       "      <td>34.47</td>\n",
       "      <td>1</td>\n",
       "      <td>1689.03</td>\n",
       "      <td>1/6/2003 0:00</td>\n",
       "      <td>Shipped</td>\n",
       "      <td>1</td>\n",
       "      <td>1</td>\n",
       "      <td>2003</td>\n",
       "      <td>...</td>\n",
       "      <td>2304 Long Airport Avenue</td>\n",
       "      <td>NaN</td>\n",
       "      <td>Nashua</td>\n",
       "      <td>NH</td>\n",
       "      <td>62005</td>\n",
       "      <td>USA</td>\n",
       "      <td>NaN</td>\n",
       "      <td>Young</td>\n",
       "      <td>Valarie</td>\n",
       "      <td>Small</td>\n",
       "    </tr>\n",
       "    <tr>\n",
       "      <th>4</th>\n",
       "      <td>10101</td>\n",
       "      <td>25</td>\n",
       "      <td>100.00</td>\n",
       "      <td>4</td>\n",
       "      <td>3782.00</td>\n",
       "      <td>1/9/2003 0:00</td>\n",
       "      <td>Shipped</td>\n",
       "      <td>1</td>\n",
       "      <td>1</td>\n",
       "      <td>2003</td>\n",
       "      <td>...</td>\n",
       "      <td>Lyonerstr. 34</td>\n",
       "      <td>NaN</td>\n",
       "      <td>Frankfurt</td>\n",
       "      <td>NaN</td>\n",
       "      <td>60528</td>\n",
       "      <td>Germany</td>\n",
       "      <td>EMEA</td>\n",
       "      <td>Keitel</td>\n",
       "      <td>Roland</td>\n",
       "      <td>Medium</td>\n",
       "    </tr>\n",
       "    <tr>\n",
       "      <th>...</th>\n",
       "      <td>...</td>\n",
       "      <td>...</td>\n",
       "      <td>...</td>\n",
       "      <td>...</td>\n",
       "      <td>...</td>\n",
       "      <td>...</td>\n",
       "      <td>...</td>\n",
       "      <td>...</td>\n",
       "      <td>...</td>\n",
       "      <td>...</td>\n",
       "      <td>...</td>\n",
       "      <td>...</td>\n",
       "      <td>...</td>\n",
       "      <td>...</td>\n",
       "      <td>...</td>\n",
       "      <td>...</td>\n",
       "      <td>...</td>\n",
       "      <td>...</td>\n",
       "      <td>...</td>\n",
       "      <td>...</td>\n",
       "      <td>...</td>\n",
       "    </tr>\n",
       "    <tr>\n",
       "      <th>2818</th>\n",
       "      <td>10425</td>\n",
       "      <td>41</td>\n",
       "      <td>86.68</td>\n",
       "      <td>11</td>\n",
       "      <td>3553.88</td>\n",
       "      <td>5/31/2005 0:00</td>\n",
       "      <td>In Process</td>\n",
       "      <td>2</td>\n",
       "      <td>5</td>\n",
       "      <td>2005</td>\n",
       "      <td>...</td>\n",
       "      <td>67, rue des Cinquante Otages</td>\n",
       "      <td>NaN</td>\n",
       "      <td>Nantes</td>\n",
       "      <td>NaN</td>\n",
       "      <td>44000</td>\n",
       "      <td>France</td>\n",
       "      <td>EMEA</td>\n",
       "      <td>Labrune</td>\n",
       "      <td>Janine</td>\n",
       "      <td>Medium</td>\n",
       "    </tr>\n",
       "    <tr>\n",
       "      <th>2819</th>\n",
       "      <td>10425</td>\n",
       "      <td>11</td>\n",
       "      <td>43.83</td>\n",
       "      <td>6</td>\n",
       "      <td>482.13</td>\n",
       "      <td>5/31/2005 0:00</td>\n",
       "      <td>In Process</td>\n",
       "      <td>2</td>\n",
       "      <td>5</td>\n",
       "      <td>2005</td>\n",
       "      <td>...</td>\n",
       "      <td>67, rue des Cinquante Otages</td>\n",
       "      <td>NaN</td>\n",
       "      <td>Nantes</td>\n",
       "      <td>NaN</td>\n",
       "      <td>44000</td>\n",
       "      <td>France</td>\n",
       "      <td>EMEA</td>\n",
       "      <td>Labrune</td>\n",
       "      <td>Janine</td>\n",
       "      <td>Small</td>\n",
       "    </tr>\n",
       "    <tr>\n",
       "      <th>2820</th>\n",
       "      <td>10424</td>\n",
       "      <td>44</td>\n",
       "      <td>61.41</td>\n",
       "      <td>2</td>\n",
       "      <td>2702.04</td>\n",
       "      <td>5/31/2005 0:00</td>\n",
       "      <td>In Process</td>\n",
       "      <td>2</td>\n",
       "      <td>5</td>\n",
       "      <td>2005</td>\n",
       "      <td>...</td>\n",
       "      <td>C/ Moralzarzal, 86</td>\n",
       "      <td>NaN</td>\n",
       "      <td>Madrid</td>\n",
       "      <td>NaN</td>\n",
       "      <td>28034</td>\n",
       "      <td>Spain</td>\n",
       "      <td>EMEA</td>\n",
       "      <td>Freyre</td>\n",
       "      <td>Diego</td>\n",
       "      <td>Small</td>\n",
       "    </tr>\n",
       "    <tr>\n",
       "      <th>2821</th>\n",
       "      <td>10425</td>\n",
       "      <td>18</td>\n",
       "      <td>100.00</td>\n",
       "      <td>2</td>\n",
       "      <td>1895.94</td>\n",
       "      <td>5/31/2005 0:00</td>\n",
       "      <td>In Process</td>\n",
       "      <td>2</td>\n",
       "      <td>5</td>\n",
       "      <td>2005</td>\n",
       "      <td>...</td>\n",
       "      <td>67, rue des Cinquante Otages</td>\n",
       "      <td>NaN</td>\n",
       "      <td>Nantes</td>\n",
       "      <td>NaN</td>\n",
       "      <td>44000</td>\n",
       "      <td>France</td>\n",
       "      <td>EMEA</td>\n",
       "      <td>Labrune</td>\n",
       "      <td>Janine</td>\n",
       "      <td>Small</td>\n",
       "    </tr>\n",
       "    <tr>\n",
       "      <th>2822</th>\n",
       "      <td>10424</td>\n",
       "      <td>46</td>\n",
       "      <td>80.92</td>\n",
       "      <td>1</td>\n",
       "      <td>3722.32</td>\n",
       "      <td>5/31/2005 0:00</td>\n",
       "      <td>In Process</td>\n",
       "      <td>2</td>\n",
       "      <td>5</td>\n",
       "      <td>2005</td>\n",
       "      <td>...</td>\n",
       "      <td>C/ Moralzarzal, 86</td>\n",
       "      <td>NaN</td>\n",
       "      <td>Madrid</td>\n",
       "      <td>NaN</td>\n",
       "      <td>28034</td>\n",
       "      <td>Spain</td>\n",
       "      <td>EMEA</td>\n",
       "      <td>Freyre</td>\n",
       "      <td>Diego</td>\n",
       "      <td>Medium</td>\n",
       "    </tr>\n",
       "  </tbody>\n",
       "</table>\n",
       "<p>2823 rows × 25 columns</p>\n",
       "</div>"
      ],
      "text/plain": [
       "      ORDERNUMBER  QUANTITYORDERED  PRICEEACH  ORDERLINENUMBER    SALES  \\\n",
       "0           10100               30     100.00                3  5151.00   \n",
       "1           10100               50      67.80                2  3390.00   \n",
       "2           10100               22      86.51                4  1903.22   \n",
       "3           10100               49      34.47                1  1689.03   \n",
       "4           10101               25     100.00                4  3782.00   \n",
       "...           ...              ...        ...              ...      ...   \n",
       "2818        10425               41      86.68               11  3553.88   \n",
       "2819        10425               11      43.83                6   482.13   \n",
       "2820        10424               44      61.41                2  2702.04   \n",
       "2821        10425               18     100.00                2  1895.94   \n",
       "2822        10424               46      80.92                1  3722.32   \n",
       "\n",
       "           ORDERDATE      STATUS  QTR_ID  MONTH_ID  YEAR_ID  ...  \\\n",
       "0      1/6/2003 0:00     Shipped       1         1     2003  ...   \n",
       "1      1/6/2003 0:00     Shipped       1         1     2003  ...   \n",
       "2      1/6/2003 0:00     Shipped       1         1     2003  ...   \n",
       "3      1/6/2003 0:00     Shipped       1         1     2003  ...   \n",
       "4      1/9/2003 0:00     Shipped       1         1     2003  ...   \n",
       "...              ...         ...     ...       ...      ...  ...   \n",
       "2818  5/31/2005 0:00  In Process       2         5     2005  ...   \n",
       "2819  5/31/2005 0:00  In Process       2         5     2005  ...   \n",
       "2820  5/31/2005 0:00  In Process       2         5     2005  ...   \n",
       "2821  5/31/2005 0:00  In Process       2         5     2005  ...   \n",
       "2822  5/31/2005 0:00  In Process       2         5     2005  ...   \n",
       "\n",
       "                      ADDRESSLINE1  ADDRESSLINE2       CITY STATE POSTALCODE  \\\n",
       "0         2304 Long Airport Avenue           NaN     Nashua    NH      62005   \n",
       "1         2304 Long Airport Avenue           NaN     Nashua    NH      62005   \n",
       "2         2304 Long Airport Avenue           NaN     Nashua    NH      62005   \n",
       "3         2304 Long Airport Avenue           NaN     Nashua    NH      62005   \n",
       "4                    Lyonerstr. 34           NaN  Frankfurt   NaN      60528   \n",
       "...                            ...           ...        ...   ...        ...   \n",
       "2818  67, rue des Cinquante Otages           NaN     Nantes   NaN      44000   \n",
       "2819  67, rue des Cinquante Otages           NaN     Nantes   NaN      44000   \n",
       "2820            C/ Moralzarzal, 86           NaN     Madrid   NaN      28034   \n",
       "2821  67, rue des Cinquante Otages           NaN     Nantes   NaN      44000   \n",
       "2822            C/ Moralzarzal, 86           NaN     Madrid   NaN      28034   \n",
       "\n",
       "      COUNTRY TERRITORY CONTACTLASTNAME CONTACTFIRSTNAME DEALSIZE  \n",
       "0         USA       NaN           Young          Valarie   Medium  \n",
       "1         USA       NaN           Young          Valarie   Medium  \n",
       "2         USA       NaN           Young          Valarie    Small  \n",
       "3         USA       NaN           Young          Valarie    Small  \n",
       "4     Germany      EMEA          Keitel           Roland   Medium  \n",
       "...       ...       ...             ...              ...      ...  \n",
       "2818   France      EMEA         Labrune           Janine   Medium  \n",
       "2819   France      EMEA         Labrune           Janine    Small  \n",
       "2820    Spain      EMEA          Freyre            Diego    Small  \n",
       "2821   France      EMEA         Labrune           Janine    Small  \n",
       "2822    Spain      EMEA          Freyre            Diego   Medium  \n",
       "\n",
       "[2823 rows x 25 columns]"
      ]
     },
     "execution_count": 44,
     "metadata": {},
     "output_type": "execute_result"
    }
   ],
   "source": [
    "data"
   ]
  },
  {
   "cell_type": "code",
   "execution_count": 45,
   "metadata": {},
   "outputs": [
    {
     "data": {
      "text/plain": [
       "(2823, 25)"
      ]
     },
     "execution_count": 45,
     "metadata": {},
     "output_type": "execute_result"
    }
   ],
   "source": [
    "data.shape"
   ]
  },
  {
   "cell_type": "code",
   "execution_count": 46,
   "metadata": {},
   "outputs": [
    {
     "data": {
      "text/plain": [
       "0"
      ]
     },
     "execution_count": 46,
     "metadata": {},
     "output_type": "execute_result"
    }
   ],
   "source": [
    "data.duplicated().sum()"
   ]
  },
  {
   "cell_type": "code",
   "execution_count": 47,
   "metadata": {},
   "outputs": [
    {
     "data": {
      "text/plain": [
       "ORDERNUMBER            0\n",
       "QUANTITYORDERED        0\n",
       "PRICEEACH              0\n",
       "ORDERLINENUMBER        0\n",
       "SALES                  0\n",
       "ORDERDATE              0\n",
       "STATUS                 0\n",
       "QTR_ID                 0\n",
       "MONTH_ID               0\n",
       "YEAR_ID                0\n",
       "PRODUCTLINE            0\n",
       "MSRP                   0\n",
       "PRODUCTCODE            0\n",
       "CUSTOMERNAME           0\n",
       "PHONE                  0\n",
       "ADDRESSLINE1           0\n",
       "ADDRESSLINE2        2521\n",
       "CITY                   0\n",
       "STATE               1486\n",
       "POSTALCODE            76\n",
       "COUNTRY                0\n",
       "TERRITORY           1074\n",
       "CONTACTLASTNAME        0\n",
       "CONTACTFIRSTNAME       0\n",
       "DEALSIZE               0\n",
       "dtype: int64"
      ]
     },
     "execution_count": 47,
     "metadata": {},
     "output_type": "execute_result"
    }
   ],
   "source": [
    "data.isna().sum()"
   ]
  },
  {
   "cell_type": "code",
   "execution_count": 48,
   "metadata": {},
   "outputs": [
    {
     "data": {
      "text/plain": [
       "(2823, 25)"
      ]
     },
     "execution_count": 48,
     "metadata": {},
     "output_type": "execute_result"
    }
   ],
   "source": [
    "data.shape"
   ]
  },
  {
   "cell_type": "code",
   "execution_count": 49,
   "metadata": {},
   "outputs": [],
   "source": [
    "data.dropna(inplace=True, axis=1)"
   ]
  },
  {
   "cell_type": "code",
   "execution_count": 50,
   "metadata": {},
   "outputs": [
    {
     "data": {
      "text/plain": [
       "Index(['ORDERNUMBER', 'QUANTITYORDERED', 'PRICEEACH', 'ORDERLINENUMBER',\n",
       "       'SALES', 'ORDERDATE', 'STATUS', 'QTR_ID', 'MONTH_ID', 'YEAR_ID',\n",
       "       'PRODUCTLINE', 'MSRP', 'PRODUCTCODE', 'CUSTOMERNAME', 'PHONE',\n",
       "       'ADDRESSLINE1', 'CITY', 'COUNTRY', 'CONTACTLASTNAME',\n",
       "       'CONTACTFIRSTNAME', 'DEALSIZE'],\n",
       "      dtype='object')"
      ]
     },
     "execution_count": 50,
     "metadata": {},
     "output_type": "execute_result"
    }
   ],
   "source": [
    "data.columns"
   ]
  },
  {
   "cell_type": "code",
   "execution_count": 51,
   "metadata": {},
   "outputs": [],
   "source": [
    "data['PRODUCTLINE'] = data['PRODUCTLINE'].astype('category').cat.codes"
   ]
  },
  {
   "cell_type": "code",
   "execution_count": 52,
   "metadata": {},
   "outputs": [],
   "source": [
    "data['CUSTOMERNAME'] = data['CUSTOMERNAME'].astype('category').cat.codes"
   ]
  },
  {
   "cell_type": "code",
   "execution_count": 53,
   "metadata": {},
   "outputs": [],
   "source": [
    "data['COUNTRY'] = data['COUNTRY'].astype('category').cat.codes"
   ]
  },
  {
   "cell_type": "code",
   "execution_count": 54,
   "metadata": {},
   "outputs": [
    {
     "data": {
      "text/html": [
       "<div>\n",
       "<style scoped>\n",
       "    .dataframe tbody tr th:only-of-type {\n",
       "        vertical-align: middle;\n",
       "    }\n",
       "\n",
       "    .dataframe tbody tr th {\n",
       "        vertical-align: top;\n",
       "    }\n",
       "\n",
       "    .dataframe thead th {\n",
       "        text-align: right;\n",
       "    }\n",
       "</style>\n",
       "<table border=\"1\" class=\"dataframe\">\n",
       "  <thead>\n",
       "    <tr style=\"text-align: right;\">\n",
       "      <th></th>\n",
       "      <th>ORDERNUMBER</th>\n",
       "      <th>QUANTITYORDERED</th>\n",
       "      <th>PRICEEACH</th>\n",
       "      <th>ORDERLINENUMBER</th>\n",
       "      <th>SALES</th>\n",
       "      <th>ORDERDATE</th>\n",
       "      <th>STATUS</th>\n",
       "      <th>QTR_ID</th>\n",
       "      <th>MONTH_ID</th>\n",
       "      <th>YEAR_ID</th>\n",
       "      <th>...</th>\n",
       "      <th>MSRP</th>\n",
       "      <th>PRODUCTCODE</th>\n",
       "      <th>CUSTOMERNAME</th>\n",
       "      <th>PHONE</th>\n",
       "      <th>ADDRESSLINE1</th>\n",
       "      <th>CITY</th>\n",
       "      <th>COUNTRY</th>\n",
       "      <th>CONTACTLASTNAME</th>\n",
       "      <th>CONTACTFIRSTNAME</th>\n",
       "      <th>DEALSIZE</th>\n",
       "    </tr>\n",
       "  </thead>\n",
       "  <tbody>\n",
       "    <tr>\n",
       "      <th>0</th>\n",
       "      <td>10100</td>\n",
       "      <td>30</td>\n",
       "      <td>100.00</td>\n",
       "      <td>3</td>\n",
       "      <td>5151.00</td>\n",
       "      <td>1/6/2003 0:00</td>\n",
       "      <td>Shipped</td>\n",
       "      <td>1</td>\n",
       "      <td>1</td>\n",
       "      <td>2003</td>\n",
       "      <td>...</td>\n",
       "      <td>170</td>\n",
       "      <td>S18_1749</td>\n",
       "      <td>60</td>\n",
       "      <td>6035558647</td>\n",
       "      <td>2304 Long Airport Avenue</td>\n",
       "      <td>Nashua</td>\n",
       "      <td>18</td>\n",
       "      <td>Young</td>\n",
       "      <td>Valarie</td>\n",
       "      <td>Medium</td>\n",
       "    </tr>\n",
       "    <tr>\n",
       "      <th>1</th>\n",
       "      <td>10100</td>\n",
       "      <td>50</td>\n",
       "      <td>67.80</td>\n",
       "      <td>2</td>\n",
       "      <td>3390.00</td>\n",
       "      <td>1/6/2003 0:00</td>\n",
       "      <td>Shipped</td>\n",
       "      <td>1</td>\n",
       "      <td>1</td>\n",
       "      <td>2003</td>\n",
       "      <td>...</td>\n",
       "      <td>60</td>\n",
       "      <td>S18_2248</td>\n",
       "      <td>60</td>\n",
       "      <td>6035558647</td>\n",
       "      <td>2304 Long Airport Avenue</td>\n",
       "      <td>Nashua</td>\n",
       "      <td>18</td>\n",
       "      <td>Young</td>\n",
       "      <td>Valarie</td>\n",
       "      <td>Medium</td>\n",
       "    </tr>\n",
       "    <tr>\n",
       "      <th>2</th>\n",
       "      <td>10100</td>\n",
       "      <td>22</td>\n",
       "      <td>86.51</td>\n",
       "      <td>4</td>\n",
       "      <td>1903.22</td>\n",
       "      <td>1/6/2003 0:00</td>\n",
       "      <td>Shipped</td>\n",
       "      <td>1</td>\n",
       "      <td>1</td>\n",
       "      <td>2003</td>\n",
       "      <td>...</td>\n",
       "      <td>92</td>\n",
       "      <td>S18_4409</td>\n",
       "      <td>60</td>\n",
       "      <td>6035558647</td>\n",
       "      <td>2304 Long Airport Avenue</td>\n",
       "      <td>Nashua</td>\n",
       "      <td>18</td>\n",
       "      <td>Young</td>\n",
       "      <td>Valarie</td>\n",
       "      <td>Small</td>\n",
       "    </tr>\n",
       "    <tr>\n",
       "      <th>3</th>\n",
       "      <td>10100</td>\n",
       "      <td>49</td>\n",
       "      <td>34.47</td>\n",
       "      <td>1</td>\n",
       "      <td>1689.03</td>\n",
       "      <td>1/6/2003 0:00</td>\n",
       "      <td>Shipped</td>\n",
       "      <td>1</td>\n",
       "      <td>1</td>\n",
       "      <td>2003</td>\n",
       "      <td>...</td>\n",
       "      <td>41</td>\n",
       "      <td>S24_3969</td>\n",
       "      <td>60</td>\n",
       "      <td>6035558647</td>\n",
       "      <td>2304 Long Airport Avenue</td>\n",
       "      <td>Nashua</td>\n",
       "      <td>18</td>\n",
       "      <td>Young</td>\n",
       "      <td>Valarie</td>\n",
       "      <td>Small</td>\n",
       "    </tr>\n",
       "    <tr>\n",
       "      <th>4</th>\n",
       "      <td>10101</td>\n",
       "      <td>25</td>\n",
       "      <td>100.00</td>\n",
       "      <td>4</td>\n",
       "      <td>3782.00</td>\n",
       "      <td>1/9/2003 0:00</td>\n",
       "      <td>Shipped</td>\n",
       "      <td>1</td>\n",
       "      <td>1</td>\n",
       "      <td>2003</td>\n",
       "      <td>...</td>\n",
       "      <td>127</td>\n",
       "      <td>S18_2325</td>\n",
       "      <td>13</td>\n",
       "      <td>+49 69 66 90 2555</td>\n",
       "      <td>Lyonerstr. 34</td>\n",
       "      <td>Frankfurt</td>\n",
       "      <td>7</td>\n",
       "      <td>Keitel</td>\n",
       "      <td>Roland</td>\n",
       "      <td>Medium</td>\n",
       "    </tr>\n",
       "  </tbody>\n",
       "</table>\n",
       "<p>5 rows × 21 columns</p>\n",
       "</div>"
      ],
      "text/plain": [
       "   ORDERNUMBER  QUANTITYORDERED  PRICEEACH  ORDERLINENUMBER    SALES  \\\n",
       "0        10100               30     100.00                3  5151.00   \n",
       "1        10100               50      67.80                2  3390.00   \n",
       "2        10100               22      86.51                4  1903.22   \n",
       "3        10100               49      34.47                1  1689.03   \n",
       "4        10101               25     100.00                4  3782.00   \n",
       "\n",
       "       ORDERDATE   STATUS  QTR_ID  MONTH_ID  YEAR_ID  ...  MSRP  PRODUCTCODE  \\\n",
       "0  1/6/2003 0:00  Shipped       1         1     2003  ...   170     S18_1749   \n",
       "1  1/6/2003 0:00  Shipped       1         1     2003  ...    60     S18_2248   \n",
       "2  1/6/2003 0:00  Shipped       1         1     2003  ...    92     S18_4409   \n",
       "3  1/6/2003 0:00  Shipped       1         1     2003  ...    41     S24_3969   \n",
       "4  1/9/2003 0:00  Shipped       1         1     2003  ...   127     S18_2325   \n",
       "\n",
       "  CUSTOMERNAME              PHONE              ADDRESSLINE1       CITY  \\\n",
       "0           60         6035558647  2304 Long Airport Avenue     Nashua   \n",
       "1           60         6035558647  2304 Long Airport Avenue     Nashua   \n",
       "2           60         6035558647  2304 Long Airport Avenue     Nashua   \n",
       "3           60         6035558647  2304 Long Airport Avenue     Nashua   \n",
       "4           13  +49 69 66 90 2555             Lyonerstr. 34  Frankfurt   \n",
       "\n",
       "  COUNTRY  CONTACTLASTNAME CONTACTFIRSTNAME DEALSIZE  \n",
       "0      18            Young          Valarie   Medium  \n",
       "1      18            Young          Valarie   Medium  \n",
       "2      18            Young          Valarie    Small  \n",
       "3      18            Young          Valarie    Small  \n",
       "4       7           Keitel           Roland   Medium  \n",
       "\n",
       "[5 rows x 21 columns]"
      ]
     },
     "execution_count": 54,
     "metadata": {},
     "output_type": "execute_result"
    }
   ],
   "source": [
    "data.head()"
   ]
  },
  {
   "cell_type": "code",
   "execution_count": 55,
   "metadata": {},
   "outputs": [],
   "source": [
    "X = data[['QUANTITYORDERED', 'PRICEEACH', 'ORDERLINENUMBER', 'QTR_ID', 'MONTH_ID', \\\n",
    "        'YEAR_ID', 'PRODUCTLINE', 'MSRP', 'CUSTOMERNAME', 'COUNTRY']]"
   ]
  },
  {
   "cell_type": "code",
   "execution_count": 56,
   "metadata": {},
   "outputs": [],
   "source": [
    "Y = data['SALES']"
   ]
  },
  {
   "cell_type": "code",
   "execution_count": null,
   "metadata": {},
   "outputs": [],
   "source": []
  },
  {
   "cell_type": "code",
   "execution_count": 57,
   "metadata": {},
   "outputs": [],
   "source": [
    "from sklearn.model_selection import train_test_split"
   ]
  },
  {
   "cell_type": "code",
   "execution_count": 58,
   "metadata": {},
   "outputs": [],
   "source": [
    "X_train, X_test, Y_train, Y_test = train_test_split(X, Y, test_size=0.2, random_state=42)"
   ]
  },
  {
   "cell_type": "code",
   "execution_count": 59,
   "metadata": {},
   "outputs": [],
   "source": [
    "from sklearn.linear_model import LinearRegression"
   ]
  },
  {
   "cell_type": "code",
   "execution_count": 60,
   "metadata": {},
   "outputs": [],
   "source": [
    "lr = LinearRegression()"
   ]
  },
  {
   "cell_type": "code",
   "execution_count": 61,
   "metadata": {},
   "outputs": [
    {
     "data": {
      "text/plain": [
       "LinearRegression()"
      ]
     },
     "execution_count": 61,
     "metadata": {},
     "output_type": "execute_result"
    }
   ],
   "source": [
    "lr.fit(X_train, Y_train)"
   ]
  },
  {
   "cell_type": "code",
   "execution_count": 62,
   "metadata": {},
   "outputs": [],
   "source": [
    "Y_pred = lr.predict(X_test)"
   ]
  },
  {
   "cell_type": "code",
   "execution_count": 63,
   "metadata": {},
   "outputs": [
    {
     "data": {
      "text/plain": [
       "array([ 5575.41609392,  2300.33631614,  3510.03911387,   187.75790335,\n",
       "        4534.94430049,  6013.67948121,  3566.62402862,   135.67476724,\n",
       "        4526.01445089,  5180.02757882,  4409.59314989,  2353.08399689,\n",
       "        4232.13004751,  3390.45083395,  4044.1265118 ,  4667.01094642,\n",
       "        4021.47292762,  6413.76294902,  4260.27337298,  3216.57690152,\n",
       "        2929.2569659 ,  3390.56250236,  4613.60181434,  5082.06017195,\n",
       "        3089.29594912,  2846.92899681,   801.33409058,  3348.36644285,\n",
       "        1321.48738008,  -503.03134686,  5443.77223134,  4186.5949682 ,\n",
       "        3458.15243584,  2167.43453301,  2251.45804398,  1918.69106855,\n",
       "        1202.18707374,  3936.18111129,  2500.06545343,  -427.62977427,\n",
       "         795.37646488,  3207.45597347,  3831.4893127 ,  6178.38134732,\n",
       "        6015.07363988,  6293.8448465 ,  4408.31500507,  5481.21796195,\n",
       "        1379.66284661,  4296.36845337,  1390.84496521,  3104.8107333 ,\n",
       "       -1036.90238617,  3620.57769812,  3719.35802961,  3035.73306119,\n",
       "        3558.35426494,  4849.82678688,  3972.79587091,  2550.62361014,\n",
       "        2959.75865782,  4127.53797401,  5574.4188355 ,  5635.47192058,\n",
       "        6613.38925701,  5076.41039686,  -239.9423917 ,  4004.80916047,\n",
       "        1756.55926421,  3196.58890947,  3675.67894405,  4980.06385148,\n",
       "        -165.42857826,  3713.1505812 ,  3316.31650744,  2201.63703883,\n",
       "        5158.62057768,  3003.67447889,  2286.89518335,   987.89107724,\n",
       "        2781.2783765 ,   457.14234213,  9077.02144049,  1726.44220982,\n",
       "        2146.51813193,  3998.75418252,  4553.11433422,  3016.89278917,\n",
       "         532.62641088,  2904.78382485,  2525.9877498 ,  2932.02331275,\n",
       "        4741.73940226,  6111.9851834 ,   837.63033088,  3538.9371364 ,\n",
       "        3170.07321636,  1510.82320441,  6134.32552619,  2048.16648395,\n",
       "        4758.88091532,  6092.45312826,  3212.60745252,  5900.26731693,\n",
       "        5025.86378777,  6349.36040562,  4282.46350946,  4670.4263333 ,\n",
       "        2245.56458524,   694.80434743,  3407.84808897,  2471.3706302 ,\n",
       "        5368.8390565 ,  3949.80054488,  1151.62434051,  3392.89654275,\n",
       "        5329.46248908,  1721.4867387 ,  7365.16370383,  3917.53730945,\n",
       "        2480.44785705,  -690.38992521,   389.94574893,  3200.08884263,\n",
       "        4868.84852688,  4852.87621267,  5130.36961245,  6894.67822193,\n",
       "        3814.79277971,  5833.92510342, -1006.11055484,  2677.35573654,\n",
       "         521.4992871 ,   203.30486974,  5496.37735946,  1982.19541635,\n",
       "        4141.17373003,  1718.75114268,  3640.59133577,  4854.06381314,\n",
       "         917.16647998,  2344.12157031,  4626.54708205,  2950.82125843,\n",
       "        5276.75193633,  4141.07239983,  3321.71861465,  2480.90479851,\n",
       "        2604.74236942,  5413.41678506,  6755.17336234,   999.60962047,\n",
       "        2121.65252681,  3599.72951997,  3606.66513401,  4987.87827154,\n",
       "        1866.19711291,  3575.85187796,  2620.49961662,  3662.02545102,\n",
       "        5120.83544272,  -945.67943574,  3935.0963575 ,  5243.7557668 ,\n",
       "        3009.83021086,  5427.32352793,  1855.4899867 ,  5656.8887527 ,\n",
       "        3065.83125508,  3835.96639689,  -134.35428123,  5004.79859524,\n",
       "        1063.69808544,  3799.54122283,  5368.39874873,  2571.33736946,\n",
       "        6293.34865316,  1189.78642461,  3990.14147486,  1307.36662687,\n",
       "        3491.10625831,  3378.29549965,  5318.48932906,    96.0500558 ,\n",
       "         638.18667913,  2146.64870547,  3976.9616841 ,  2379.90311662,\n",
       "        -850.18634357,  4224.24366522,  2935.46766338,  3210.43150331,\n",
       "        3246.78306319,  2454.39268662,  2667.268023  ,  3648.80570306,\n",
       "        5462.85025684,  3222.82647155,  5038.53702659,  2937.52653662,\n",
       "        2712.96520886,  3143.05751231,  2659.68241777,  5435.58292225,\n",
       "        5542.66764603,  1440.99989935,  1283.60993866,  4473.31019749,\n",
       "         843.27611378,  5513.64680551,   787.50520811,  6397.96096678,\n",
       "        5724.73515321,  4482.58984643,  2676.00058949,  5859.74262976,\n",
       "        3510.11689813,  3368.32240556,  1337.48884034,  2677.29509196,\n",
       "         347.67357949,  3764.10820518,  1134.41678616,  2446.16600954,\n",
       "        6388.82263027,  5838.50269559,  3557.00501075,  5361.29423396,\n",
       "        4657.08941078,  1758.69578806,  2658.70372077,  3857.65282708,\n",
       "        1286.74070272,  1920.179861  ,  3669.43620046,  4154.9174524 ,\n",
       "         944.59622077,   720.54295979,  2417.89272055,  4537.48138603,\n",
       "         778.02546765,  1637.3897701 ,  3128.78290445,  6965.42417552,\n",
       "        2648.30025378,  3665.59387993,  2776.34113649,  5768.08093405,\n",
       "        4900.5446006 ,  2911.69849317,  4436.73071479,  1304.87916684,\n",
       "        5437.11044905,  3672.32632989,  5329.40400807,   722.72361586,\n",
       "        2902.99157328,  3725.15115301,  3200.90101538,  4031.74485136,\n",
       "        3692.52143598,  3130.98148074,  2223.16876284,  2864.86178474,\n",
       "        3166.12243354,   951.26545362,  1689.55698433,  2841.12273856,\n",
       "        2725.01125405,  4488.11948016,  5140.78424816,  4262.91823397,\n",
       "        4512.32920262,  3376.41224826,  6233.7241101 ,  2878.35052009,\n",
       "        3883.72105591,  2602.48156475,  4719.96343487,  2916.98841544,\n",
       "        4174.87431415,  3801.69170481,  5729.25948402,   804.48453728,\n",
       "        3781.53147169,  3785.26329607,  4211.83516364,  6418.23880285,\n",
       "         147.99288876,  2502.37750884,  4475.5679387 ,  3247.4768871 ,\n",
       "        2593.0364724 ,  5074.26916649,  4375.81570811,  3063.77288423,\n",
       "        4562.65191825,  2633.79303324,  2282.82016073,  6079.92626172,\n",
       "        2915.45649279,  2798.85677272,  5312.92257775,  3072.37337527,\n",
       "        4126.76748853,  5170.7835946 ,  3754.15656437,  5905.25932714,\n",
       "        1639.22912975,  3747.05083596,  3744.39635748,  1109.53847512,\n",
       "        1566.39477869,  5037.42061468,  3773.95131747,  2283.35781979,\n",
       "         723.64653744,  5888.47612746,  1946.68612012,  3478.45267498,\n",
       "         994.00571536,  3002.52090648, -1039.20661487,  5133.45228585,\n",
       "        1475.01876582,  1725.50699931,  3443.66160366,  5833.40942374,\n",
       "        3704.74949556,   989.60401436,  4098.43848788,   -68.94394992,\n",
       "        4826.95625488,  2498.68906514,  1809.69681619,  5513.56795057,\n",
       "        3166.96046764,  2598.77291636,  3906.30890145,  3027.70783296,\n",
       "        4193.63663851,  3412.81793413,  3046.1463272 ,  3516.27616363,\n",
       "        1176.23744012,  5893.59377115,  5265.2788132 ,   990.61971611,\n",
       "        4338.94535434,  2475.4334794 ,    41.24876213,  3128.58294486,\n",
       "        2217.98080391,  2544.81493461,  7980.94458147,   383.38562361,\n",
       "        5466.10879519,  5191.85553692,  5162.62945113,  1575.81860928,\n",
       "        4648.52316844,  9494.18515701,  1172.43384999,  3642.02119079,\n",
       "        2351.56396306,  3899.47070233,  2275.16722036,  5575.68178392,\n",
       "        3106.34542993,   966.11812287,  2430.64324054,  2903.36256539,\n",
       "        6089.22813073,  5796.82376707,  5573.62536119,  2812.9421441 ,\n",
       "        3765.22436211,  4238.17832019,  4104.66524354,  2994.78884495,\n",
       "        4604.13337769,  6886.43880804,  6584.11719291,  3139.49945069,\n",
       "        3658.55714851,  5697.34974151,  1854.7424641 ,  3886.01887526,\n",
       "        5488.48238937,  2573.13515561,  -259.10369881,  1784.0682927 ,\n",
       "        4996.58735797,  5662.75142731,  1670.80863791,  2882.12116619,\n",
       "        4205.7509492 ,  -516.45720563,  2861.31693347,  1822.23747331,\n",
       "        3984.41673887,  2028.93156143,  3201.27401008,  1964.97319758,\n",
       "        3385.47038345,  4237.21198495,  1886.21221203,  4245.90531579,\n",
       "         801.17630224,  5433.69355395,  4454.35028905,  4360.26369922,\n",
       "        6406.59947846,   433.25882889,  6995.51738571,  3435.43683802,\n",
       "        2867.76740197,  4355.1782966 ,  2222.28534802,  6238.21966259,\n",
       "        5777.84326724,  3340.53651858,  3892.94266894,  5704.89369786,\n",
       "        5464.23540389,  2515.24273951,  2912.28331193,  4422.50629388,\n",
       "        3961.54979063,   949.56715394,  3079.23770355,  3389.40047328,\n",
       "        3925.57404211,  1220.06587217,  1949.65302517,  5128.24676801,\n",
       "        4313.12907813,  3649.17197563,  5471.07748922,  2006.14718491,\n",
       "        2474.38269544,  5524.0650797 ,  5437.80613834,  4646.66480065,\n",
       "        4658.12503123,  3224.79218634,  3044.32253381,  5427.40714206,\n",
       "        -990.93557893,  3803.0813538 ,  2821.48853867,  5009.6880165 ,\n",
       "        2447.29561684,  4581.33033194,  1549.28880537,  5004.29825227,\n",
       "        4268.58477727,  3444.42025692,  5353.65698842,  5421.37749033,\n",
       "        2104.42430514,  6600.61023262,  4417.58158501,  5356.10569437,\n",
       "        2999.82041396,  3673.32461491,   450.47832961,  2543.03825298,\n",
       "        4725.16596885,  5262.68188941,  4209.4994974 ,  3385.60179241,\n",
       "        2919.40234991,  2312.3313737 ,   575.32178976,    93.07169301,\n",
       "        4779.98443352,  6287.53137378,   551.29022742,   124.76143867,\n",
       "        3022.27422616,  -225.56667072,  5107.82964353,  4319.52840139,\n",
       "        2096.96271095,  5295.37947367,   998.62949443,  2993.68405764,\n",
       "        3954.11606854,  5233.50283287,  6311.14668072,   952.50039847,\n",
       "        6644.73539604,  3773.81247022,  4775.93099098,  3157.98172686,\n",
       "        3712.32185062,   819.96185041,  1861.59908   ,  2894.98157053,\n",
       "         233.95809014,  4536.80134081,  5053.03687381,  3170.86548526,\n",
       "        3969.93301077,  4788.62701785,  5548.06553531,  2732.2490922 ,\n",
       "        5162.97600837,  2786.06815277,  2404.61388979,  4286.4534553 ,\n",
       "        2676.08160738,  5471.61520357,  4295.73959334,  1251.13219437,\n",
       "        4449.62393422,  3430.18786807,  3090.41574636,  6265.37113363,\n",
       "        4390.34931593,  3822.22097162,  4963.47472025,  4775.78600609,\n",
       "        3215.8074384 ,  1448.8821739 ,  1622.72897026,  3314.48875898,\n",
       "        3106.68453244,  2824.08943409,  1328.57587494,  5013.84503293,\n",
       "        3529.93961495,    90.63186427,  1240.64145896,  4542.93078674,\n",
       "         545.2751706 ,  4708.08530783,  4133.11900455,  3381.64198798,\n",
       "        4785.81753328,  3064.04969867,  1294.49217248,  4652.16779865,\n",
       "        2488.14882857,   347.85080794,  1911.91571398,  4045.12184964,\n",
       "        4383.50045537,  2823.63381224,  5007.40266924,  3547.04876624,\n",
       "        2692.2755157 ,  3862.29211496,  3499.88469988,  5866.41445504,\n",
       "        3211.14190073,  1592.93629307,  2681.05076436,  6287.73744546,\n",
       "        3810.5580875 ,  2129.69056279,  2783.31020535,  4392.64608352,\n",
       "        3474.4933887 ])"
      ]
     },
     "execution_count": 63,
     "metadata": {},
     "output_type": "execute_result"
    }
   ],
   "source": [
    "Y_pred"
   ]
  },
  {
   "cell_type": "code",
   "execution_count": 64,
   "metadata": {},
   "outputs": [],
   "source": [
    "from sklearn.metrics import mean_squared_error, r2_score\n",
    "import matplotlib.pyplot as plt\n",
    "import seaborn as sns\n",
    "import statsmodels.api as sm"
   ]
  },
  {
   "cell_type": "code",
   "execution_count": 65,
   "metadata": {},
   "outputs": [
    {
     "name": "stdout",
     "output_type": "stream",
     "text": [
      "Mean Squared Error:  727047.5590739495\n",
      "R2 Score:  79.73716067791554\n"
     ]
    }
   ],
   "source": [
    "print('Mean Squared Error: ', mean_squared_error(Y_test, Y_pred))\n",
    "print('R2 Score: ', r2_score(Y_test, Y_pred)*100)"
   ]
  },
  {
   "cell_type": "code",
   "execution_count": 66,
   "metadata": {},
   "outputs": [],
   "source": [
    "data['ORDERDATE'] = pd.to_datetime(data['ORDERDATE'])\n"
   ]
  },
  {
   "cell_type": "code",
   "execution_count": 67,
   "metadata": {},
   "outputs": [],
   "source": [
    "# Create a copy of the test set and add the 'ORDERDATE', 'true_sales', and 'predicted_sales' columns\n",
    "test_data = X_test.copy()\n",
    "test_data['ORDERDATE'] = data.loc[X_test.index, 'ORDERDATE']  # Retrieve the corresponding ORDERDATE for each row in the test set\n",
    "test_data['actual_sales'] = Y_test  # Add the true sales values to the test set\n",
    "test_data['predicted_sales'] = Y_pred  # Add the predicted sales values to the test set\n",
    "test_data.sort_values(by='ORDERDATE', inplace=True)"
   ]
  },
  {
   "cell_type": "code",
   "execution_count": 68,
   "metadata": {
    "scrolled": true
   },
   "outputs": [
    {
     "data": {
      "text/html": [
       "<div>\n",
       "<style scoped>\n",
       "    .dataframe tbody tr th:only-of-type {\n",
       "        vertical-align: middle;\n",
       "    }\n",
       "\n",
       "    .dataframe tbody tr th {\n",
       "        vertical-align: top;\n",
       "    }\n",
       "\n",
       "    .dataframe thead th {\n",
       "        text-align: right;\n",
       "    }\n",
       "</style>\n",
       "<table border=\"1\" class=\"dataframe\">\n",
       "  <thead>\n",
       "    <tr style=\"text-align: right;\">\n",
       "      <th></th>\n",
       "      <th>QUANTITYORDERED</th>\n",
       "      <th>PRICEEACH</th>\n",
       "      <th>ORDERLINENUMBER</th>\n",
       "      <th>QTR_ID</th>\n",
       "      <th>MONTH_ID</th>\n",
       "      <th>YEAR_ID</th>\n",
       "      <th>PRODUCTLINE</th>\n",
       "      <th>MSRP</th>\n",
       "      <th>CUSTOMERNAME</th>\n",
       "      <th>COUNTRY</th>\n",
       "      <th>ORDERDATE</th>\n",
       "      <th>actual_sales</th>\n",
       "      <th>predicted_sales</th>\n",
       "    </tr>\n",
       "  </thead>\n",
       "  <tbody>\n",
       "    <tr>\n",
       "      <th>32</th>\n",
       "      <td>35</td>\n",
       "      <td>55.49</td>\n",
       "      <td>6</td>\n",
       "      <td>1</td>\n",
       "      <td>1</td>\n",
       "      <td>2003</td>\n",
       "      <td>0</td>\n",
       "      <td>57</td>\n",
       "      <td>33</td>\n",
       "      <td>14</td>\n",
       "      <td>2003-01-31</td>\n",
       "      <td>1942.15</td>\n",
       "      <td>1726.442210</td>\n",
       "    </tr>\n",
       "    <tr>\n",
       "      <th>30</th>\n",
       "      <td>23</td>\n",
       "      <td>100.00</td>\n",
       "      <td>13</td>\n",
       "      <td>1</td>\n",
       "      <td>1</td>\n",
       "      <td>2003</td>\n",
       "      <td>0</td>\n",
       "      <td>169</td>\n",
       "      <td>33</td>\n",
       "      <td>14</td>\n",
       "      <td>2003-01-31</td>\n",
       "      <td>4556.99</td>\n",
       "      <td>3917.537309</td>\n",
       "    </tr>\n",
       "    <tr>\n",
       "      <th>29</th>\n",
       "      <td>29</td>\n",
       "      <td>100.00</td>\n",
       "      <td>12</td>\n",
       "      <td>1</td>\n",
       "      <td>1</td>\n",
       "      <td>2003</td>\n",
       "      <td>5</td>\n",
       "      <td>122</td>\n",
       "      <td>33</td>\n",
       "      <td>14</td>\n",
       "      <td>2003-01-31</td>\n",
       "      <td>3772.61</td>\n",
       "      <td>3781.531472</td>\n",
       "    </tr>\n",
       "    <tr>\n",
       "      <th>45</th>\n",
       "      <td>43</td>\n",
       "      <td>100.00</td>\n",
       "      <td>9</td>\n",
       "      <td>1</td>\n",
       "      <td>2</td>\n",
       "      <td>2003</td>\n",
       "      <td>3</td>\n",
       "      <td>122</td>\n",
       "      <td>27</td>\n",
       "      <td>4</td>\n",
       "      <td>2003-02-11</td>\n",
       "      <td>6341.21</td>\n",
       "      <td>5276.751936</td>\n",
       "    </tr>\n",
       "    <tr>\n",
       "      <th>43</th>\n",
       "      <td>38</td>\n",
       "      <td>100.00</td>\n",
       "      <td>13</td>\n",
       "      <td>1</td>\n",
       "      <td>2</td>\n",
       "      <td>2003</td>\n",
       "      <td>4</td>\n",
       "      <td>100</td>\n",
       "      <td>27</td>\n",
       "      <td>4</td>\n",
       "      <td>2003-02-11</td>\n",
       "      <td>4330.10</td>\n",
       "      <td>4375.815708</td>\n",
       "    </tr>\n",
       "    <tr>\n",
       "      <th>...</th>\n",
       "      <td>...</td>\n",
       "      <td>...</td>\n",
       "      <td>...</td>\n",
       "      <td>...</td>\n",
       "      <td>...</td>\n",
       "      <td>...</td>\n",
       "      <td>...</td>\n",
       "      <td>...</td>\n",
       "      <td>...</td>\n",
       "      <td>...</td>\n",
       "      <td>...</td>\n",
       "      <td>...</td>\n",
       "      <td>...</td>\n",
       "    </tr>\n",
       "    <tr>\n",
       "      <th>2796</th>\n",
       "      <td>15</td>\n",
       "      <td>43.49</td>\n",
       "      <td>3</td>\n",
       "      <td>2</td>\n",
       "      <td>5</td>\n",
       "      <td>2005</td>\n",
       "      <td>6</td>\n",
       "      <td>41</td>\n",
       "      <td>75</td>\n",
       "      <td>0</td>\n",
       "      <td>2005-05-29</td>\n",
       "      <td>652.35</td>\n",
       "      <td>-1036.902386</td>\n",
       "    </tr>\n",
       "    <tr>\n",
       "      <th>2822</th>\n",
       "      <td>46</td>\n",
       "      <td>80.92</td>\n",
       "      <td>1</td>\n",
       "      <td>2</td>\n",
       "      <td>5</td>\n",
       "      <td>2005</td>\n",
       "      <td>0</td>\n",
       "      <td>101</td>\n",
       "      <td>33</td>\n",
       "      <td>14</td>\n",
       "      <td>2005-05-31</td>\n",
       "      <td>3722.32</td>\n",
       "      <td>4652.167799</td>\n",
       "    </tr>\n",
       "    <tr>\n",
       "      <th>2809</th>\n",
       "      <td>28</td>\n",
       "      <td>100.00</td>\n",
       "      <td>3</td>\n",
       "      <td>2</td>\n",
       "      <td>5</td>\n",
       "      <td>2005</td>\n",
       "      <td>0</td>\n",
       "      <td>163</td>\n",
       "      <td>44</td>\n",
       "      <td>6</td>\n",
       "      <td>2005-05-31</td>\n",
       "      <td>5318.04</td>\n",
       "      <td>4488.119480</td>\n",
       "    </tr>\n",
       "    <tr>\n",
       "      <th>2817</th>\n",
       "      <td>31</td>\n",
       "      <td>33.24</td>\n",
       "      <td>5</td>\n",
       "      <td>2</td>\n",
       "      <td>5</td>\n",
       "      <td>2005</td>\n",
       "      <td>0</td>\n",
       "      <td>35</td>\n",
       "      <td>44</td>\n",
       "      <td>6</td>\n",
       "      <td>2005-05-31</td>\n",
       "      <td>1030.44</td>\n",
       "      <td>147.992889</td>\n",
       "    </tr>\n",
       "    <tr>\n",
       "      <th>2807</th>\n",
       "      <td>33</td>\n",
       "      <td>100.00</td>\n",
       "      <td>4</td>\n",
       "      <td>2</td>\n",
       "      <td>5</td>\n",
       "      <td>2005</td>\n",
       "      <td>5</td>\n",
       "      <td>118</td>\n",
       "      <td>44</td>\n",
       "      <td>6</td>\n",
       "      <td>2005-05-31</td>\n",
       "      <td>4692.60</td>\n",
       "      <td>4260.273373</td>\n",
       "    </tr>\n",
       "  </tbody>\n",
       "</table>\n",
       "<p>565 rows × 13 columns</p>\n",
       "</div>"
      ],
      "text/plain": [
       "      QUANTITYORDERED  PRICEEACH  ORDERLINENUMBER  QTR_ID  MONTH_ID  YEAR_ID  \\\n",
       "32                 35      55.49                6       1         1     2003   \n",
       "30                 23     100.00               13       1         1     2003   \n",
       "29                 29     100.00               12       1         1     2003   \n",
       "45                 43     100.00                9       1         2     2003   \n",
       "43                 38     100.00               13       1         2     2003   \n",
       "...               ...        ...              ...     ...       ...      ...   \n",
       "2796               15      43.49                3       2         5     2005   \n",
       "2822               46      80.92                1       2         5     2005   \n",
       "2809               28     100.00                3       2         5     2005   \n",
       "2817               31      33.24                5       2         5     2005   \n",
       "2807               33     100.00                4       2         5     2005   \n",
       "\n",
       "      PRODUCTLINE  MSRP  CUSTOMERNAME  COUNTRY  ORDERDATE  actual_sales  \\\n",
       "32              0    57            33       14 2003-01-31       1942.15   \n",
       "30              0   169            33       14 2003-01-31       4556.99   \n",
       "29              5   122            33       14 2003-01-31       3772.61   \n",
       "45              3   122            27        4 2003-02-11       6341.21   \n",
       "43              4   100            27        4 2003-02-11       4330.10   \n",
       "...           ...   ...           ...      ...        ...           ...   \n",
       "2796            6    41            75        0 2005-05-29        652.35   \n",
       "2822            0   101            33       14 2005-05-31       3722.32   \n",
       "2809            0   163            44        6 2005-05-31       5318.04   \n",
       "2817            0    35            44        6 2005-05-31       1030.44   \n",
       "2807            5   118            44        6 2005-05-31       4692.60   \n",
       "\n",
       "      predicted_sales  \n",
       "32        1726.442210  \n",
       "30        3917.537309  \n",
       "29        3781.531472  \n",
       "45        5276.751936  \n",
       "43        4375.815708  \n",
       "...               ...  \n",
       "2796     -1036.902386  \n",
       "2822      4652.167799  \n",
       "2809      4488.119480  \n",
       "2817       147.992889  \n",
       "2807      4260.273373  \n",
       "\n",
       "[565 rows x 13 columns]"
      ]
     },
     "execution_count": 68,
     "metadata": {},
     "output_type": "execute_result"
    }
   ],
   "source": [
    "test_data"
   ]
  },
  {
   "cell_type": "code",
   "execution_count": 69,
   "metadata": {},
   "outputs": [
    {
     "data": {
      "image/png": "[encoded data removed]",
      "text/plain": [
       "<Figure size 864x576 with 1 Axes>"
      ]
     },
     "metadata": {
      "needs_background": "light"
     },
     "output_type": "display_data"
    }
   ],
   "source": [
    "# Create a line plot of sales predictions as a function of ORDERDATE\n",
    "plt.figure(figsize=(12, 8))\n",
    "\n",
    "# Plot the actual sales values against the ORDERDATE\n",
    "sns.lineplot(data=test_data, x='ORDERDATE', y='actual_sales', label='True Sales')\n",
    "\n",
    "# Plot the predicted sales values against the ORDERDATE\n",
    "sns.lineplot(data=test_data, x='ORDERDATE', y='predicted_sales', label='Predicted Sales')\n",
    "\n",
    "# Set the x-axis label\n",
    "plt.xlabel('Order Date')\n",
    "plt.ylabel('Sales')\n",
    "plt.title('Sales Prediction as a Function of Order Date')\n",
    "plt.legend()\n",
    "plt.show()"
   ]
  },
  {
   "cell_type": "code",
   "execution_count": 70,
   "metadata": {},
   "outputs": [
    {
     "data": {
      "text/plain": [
       "<function matplotlib.pyplot.show(close=None, block=None)>"
      ]
     },
     "execution_count": 70,
     "metadata": {},
     "output_type": "execute_result"
    },
    {
     "data": {
      "image/png": "[encoded data removed]",
      "text/plain": [
       "<Figure size 1152x864 with 1 Axes>"
      ]
     },
     "metadata": {
      "needs_background": "light"
     },
     "output_type": "display_data"
    }
   ],
   "source": [
    "# Calculate residuals\n",
    "residuals = Y_test - Y_pred\n",
    "\n",
    "# Create a 2x2 grid of subplots\n",
    "plt.figure(figsize=(16, 12))\n",
    "# fig.suptitle('Model Prediction Performance Plots')\n",
    "\n",
    "# Scatter Plot of True vs. Predicted Values\n",
    "plt.scatter(Y_test,Y_pred)\n",
    "font = {'family':'Times New Roman', 'size':20,'color':'red'}\n",
    "plt.xlabel('True Values',fontdict = font)\n",
    "plt.ylabel('Predicted Values',fontdict = font)\n",
    "plt.title('Scatter Plot of True vs. Predicted Values',fontdict = font)\n",
    "# Create a diagonal line representing a perfect fit\n",
    "diag_line = np.arange(min(Y_test), max(Y_test), 0.1)\n",
    "plt.plot(diag_line, diag_line, color='indigo', linestyle='--', lw=2)\n",
    "\n",
    "plt.show"
   ]
  },
  {
   "cell_type": "code",
   "execution_count": 71,
   "metadata": {},
   "outputs": [
    {
     "data": {
      "text/plain": [
       "Text(0.5, 1.0, 'Residual Plot')"
      ]
     },
     "execution_count": 71,
     "metadata": {},
     "output_type": "execute_result"
    },
    {
     "data": {
      "image/png": "[encoded data removed]",
      "text/plain": [
       "<Figure size 1152x864 with 1 Axes>"
      ]
     },
     "metadata": {
      "needs_background": "light"
     },
     "output_type": "display_data"
    }
   ],
   "source": [
    "# Residual Plot\n",
    "plt.figure(figsize=(16, 12))\n",
    "plt.scatter(Y_test, residuals)\n",
    "plt.xlabel('True Values',fontdict = font)\n",
    "plt.ylabel('Residuals',fontdict = font)\n",
    "plt.title('Residual Plot',fontdict = font)\n",
    "\n"
   ]
  },
  {
   "cell_type": "code",
   "execution_count": 72,
   "metadata": {},
   "outputs": [
    {
     "data": {
      "text/plain": [
       "<function matplotlib.pyplot.show(close=None, block=None)>"
      ]
     },
     "execution_count": 72,
     "metadata": {},
     "output_type": "execute_result"
    },
    {
     "data": {
      "image/png": "[encoded data removed]",
      "text/plain": [
       "<Figure size 1152x864 with 1 Axes>"
      ]
     },
     "metadata": {
      "needs_background": "light"
     },
     "output_type": "display_data"
    }
   ],
   "source": [
    "# Histogram of Residuals\n",
    "plt.figure(figsize=(16, 12))\n",
    "sns.histplot(residuals, kde=True)\n",
    "plt.xlabel('Residuals',fontdict = font)\n",
    "plt.ylabel('Frequency',fontdict = font)\n",
    "plt.title('Histogram of Residuals',fontdict = font)\n",
    "\n",
    "plt.show"
   ]
  },
  {
   "cell_type": "code",
   "execution_count": 73,
   "metadata": {},
   "outputs": [
    {
     "data": {
      "text/plain": [
       "Text(0.5, 1.0, 'QQ Plot of Residuals')"
      ]
     },
     "execution_count": 73,
     "metadata": {},
     "output_type": "execute_result"
    },
    {
     "data": {
      "text/plain": [
       "<Figure size 1152x864 with 0 Axes>"
      ]
     },
     "metadata": {},
     "output_type": "display_data"
    },
    {
     "data": {
      "image/png": "[encoded data removed]",
      "text/plain": [
       "<Figure size 432x288 with 1 Axes>"
      ]
     },
     "metadata": {
      "needs_background": "light"
     },
     "output_type": "display_data"
    }
   ],
   "source": [
    "# QQ Plot of Residuals\n",
    "plt.figure(figsize=(16, 12))\n",
    "sm.qqplot(residuals, line='s')\n",
    "plt.xlabel('Theoretical Quantiles',fontdict = font)\n",
    "plt.ylabel('Sample Quantiles',fontdict = font)\n",
    "plt.title('QQ Plot of Residuals',fontdict = font)\n",
    "\n"
   ]
  },
  {
   "cell_type": "code",
   "execution_count": 74,
   "metadata": {},
   "outputs": [
    {
     "name": "stdout",
     "output_type": "stream",
     "text": [
      "Month: 5\n",
      "Day: 7\n",
      "Year: 2003\n",
      "Hour: 0\n",
      "Minute: 0\n"
     ]
    }
   ],
   "source": [
    "from datetime import datetime\n",
    "\n",
    "# Given date string\n",
    "order_date_str = \"5/7/2003 12:00:00 AM\"\n",
    "\n",
    "# Parse the date string into a datetime object\n",
    "order_date = datetime.strptime(order_date_str, \"%m/%d/%Y %I:%M:%S %p\")\n",
    "\n",
    "# Extract the components\n",
    "month = order_date.month\n",
    "day = order_date.day\n",
    "year = order_date.year\n",
    "hour = order_date.hour\n",
    "minute = order_date.minute\n",
    "\n",
    "# Print the components\n",
    "print(f\"Month: {month}\")\n",
    "print(f\"Day: {day}\")\n",
    "print(f\"Year: {year}\")\n",
    "print(f\"Hour: {hour}\")\n",
    "print(f\"Minute: {minute}\")\n"
   ]
  },
  {
   "cell_type": "code",
   "execution_count": 76,
   "metadata": {
    "scrolled": false
   },
   "outputs": [
    {
     "data": {
      "text/html": [
       "<div>\n",
       "<style scoped>\n",
       "    .dataframe tbody tr th:only-of-type {\n",
       "        vertical-align: middle;\n",
       "    }\n",
       "\n",
       "    .dataframe tbody tr th {\n",
       "        vertical-align: top;\n",
       "    }\n",
       "\n",
       "    .dataframe thead th {\n",
       "        text-align: right;\n",
       "    }\n",
       "</style>\n",
       "<table border=\"1\" class=\"dataframe\">\n",
       "  <thead>\n",
       "    <tr style=\"text-align: right;\">\n",
       "      <th></th>\n",
       "      <th>ORDERNUMBER</th>\n",
       "      <th>QUANTITYORDERED</th>\n",
       "      <th>PRICEEACH</th>\n",
       "      <th>ORDERLINENUMBER</th>\n",
       "      <th>SALES</th>\n",
       "      <th>ORDERDATE</th>\n",
       "      <th>STATUS</th>\n",
       "      <th>QTR_ID</th>\n",
       "      <th>MONTH_ID</th>\n",
       "      <th>YEAR_ID</th>\n",
       "      <th>...</th>\n",
       "      <th>PHONE</th>\n",
       "      <th>ADDRESSLINE1</th>\n",
       "      <th>CITY</th>\n",
       "      <th>COUNTRY</th>\n",
       "      <th>CONTACTLASTNAME</th>\n",
       "      <th>CONTACTFIRSTNAME</th>\n",
       "      <th>DEALSIZE</th>\n",
       "      <th>year</th>\n",
       "      <th>month</th>\n",
       "      <th>day</th>\n",
       "    </tr>\n",
       "  </thead>\n",
       "  <tbody>\n",
       "    <tr>\n",
       "      <th>0</th>\n",
       "      <td>10100</td>\n",
       "      <td>30</td>\n",
       "      <td>100.00</td>\n",
       "      <td>3</td>\n",
       "      <td>5151.00</td>\n",
       "      <td>2003-01-06</td>\n",
       "      <td>Shipped</td>\n",
       "      <td>1</td>\n",
       "      <td>1</td>\n",
       "      <td>2003</td>\n",
       "      <td>...</td>\n",
       "      <td>6035558647</td>\n",
       "      <td>2304 Long Airport Avenue</td>\n",
       "      <td>Nashua</td>\n",
       "      <td>18</td>\n",
       "      <td>Young</td>\n",
       "      <td>Valarie</td>\n",
       "      <td>Medium</td>\n",
       "      <td>2003</td>\n",
       "      <td>1</td>\n",
       "      <td>6</td>\n",
       "    </tr>\n",
       "    <tr>\n",
       "      <th>1</th>\n",
       "      <td>10100</td>\n",
       "      <td>50</td>\n",
       "      <td>67.80</td>\n",
       "      <td>2</td>\n",
       "      <td>3390.00</td>\n",
       "      <td>2003-01-06</td>\n",
       "      <td>Shipped</td>\n",
       "      <td>1</td>\n",
       "      <td>1</td>\n",
       "      <td>2003</td>\n",
       "      <td>...</td>\n",
       "      <td>6035558647</td>\n",
       "      <td>2304 Long Airport Avenue</td>\n",
       "      <td>Nashua</td>\n",
       "      <td>18</td>\n",
       "      <td>Young</td>\n",
       "      <td>Valarie</td>\n",
       "      <td>Medium</td>\n",
       "      <td>2003</td>\n",
       "      <td>1</td>\n",
       "      <td>6</td>\n",
       "    </tr>\n",
       "    <tr>\n",
       "      <th>2</th>\n",
       "      <td>10100</td>\n",
       "      <td>22</td>\n",
       "      <td>86.51</td>\n",
       "      <td>4</td>\n",
       "      <td>1903.22</td>\n",
       "      <td>2003-01-06</td>\n",
       "      <td>Shipped</td>\n",
       "      <td>1</td>\n",
       "      <td>1</td>\n",
       "      <td>2003</td>\n",
       "      <td>...</td>\n",
       "      <td>6035558647</td>\n",
       "      <td>2304 Long Airport Avenue</td>\n",
       "      <td>Nashua</td>\n",
       "      <td>18</td>\n",
       "      <td>Young</td>\n",
       "      <td>Valarie</td>\n",
       "      <td>Small</td>\n",
       "      <td>2003</td>\n",
       "      <td>1</td>\n",
       "      <td>6</td>\n",
       "    </tr>\n",
       "    <tr>\n",
       "      <th>3</th>\n",
       "      <td>10100</td>\n",
       "      <td>49</td>\n",
       "      <td>34.47</td>\n",
       "      <td>1</td>\n",
       "      <td>1689.03</td>\n",
       "      <td>2003-01-06</td>\n",
       "      <td>Shipped</td>\n",
       "      <td>1</td>\n",
       "      <td>1</td>\n",
       "      <td>2003</td>\n",
       "      <td>...</td>\n",
       "      <td>6035558647</td>\n",
       "      <td>2304 Long Airport Avenue</td>\n",
       "      <td>Nashua</td>\n",
       "      <td>18</td>\n",
       "      <td>Young</td>\n",
       "      <td>Valarie</td>\n",
       "      <td>Small</td>\n",
       "      <td>2003</td>\n",
       "      <td>1</td>\n",
       "      <td>6</td>\n",
       "    </tr>\n",
       "    <tr>\n",
       "      <th>4</th>\n",
       "      <td>10101</td>\n",
       "      <td>25</td>\n",
       "      <td>100.00</td>\n",
       "      <td>4</td>\n",
       "      <td>3782.00</td>\n",
       "      <td>2003-01-09</td>\n",
       "      <td>Shipped</td>\n",
       "      <td>1</td>\n",
       "      <td>1</td>\n",
       "      <td>2003</td>\n",
       "      <td>...</td>\n",
       "      <td>+49 69 66 90 2555</td>\n",
       "      <td>Lyonerstr. 34</td>\n",
       "      <td>Frankfurt</td>\n",
       "      <td>7</td>\n",
       "      <td>Keitel</td>\n",
       "      <td>Roland</td>\n",
       "      <td>Medium</td>\n",
       "      <td>2003</td>\n",
       "      <td>1</td>\n",
       "      <td>9</td>\n",
       "    </tr>\n",
       "  </tbody>\n",
       "</table>\n",
       "<p>5 rows × 24 columns</p>\n",
       "</div>"
      ],
      "text/plain": [
       "   ORDERNUMBER  QUANTITYORDERED  PRICEEACH  ORDERLINENUMBER    SALES  \\\n",
       "0        10100               30     100.00                3  5151.00   \n",
       "1        10100               50      67.80                2  3390.00   \n",
       "2        10100               22      86.51                4  1903.22   \n",
       "3        10100               49      34.47                1  1689.03   \n",
       "4        10101               25     100.00                4  3782.00   \n",
       "\n",
       "   ORDERDATE   STATUS  QTR_ID  MONTH_ID  YEAR_ID  ...              PHONE  \\\n",
       "0 2003-01-06  Shipped       1         1     2003  ...         6035558647   \n",
       "1 2003-01-06  Shipped       1         1     2003  ...         6035558647   \n",
       "2 2003-01-06  Shipped       1         1     2003  ...         6035558647   \n",
       "3 2003-01-06  Shipped       1         1     2003  ...         6035558647   \n",
       "4 2003-01-09  Shipped       1         1     2003  ...  +49 69 66 90 2555   \n",
       "\n",
       "               ADDRESSLINE1       CITY  COUNTRY CONTACTLASTNAME  \\\n",
       "0  2304 Long Airport Avenue     Nashua       18           Young   \n",
       "1  2304 Long Airport Avenue     Nashua       18           Young   \n",
       "2  2304 Long Airport Avenue     Nashua       18           Young   \n",
       "3  2304 Long Airport Avenue     Nashua       18           Young   \n",
       "4             Lyonerstr. 34  Frankfurt        7          Keitel   \n",
       "\n",
       "  CONTACTFIRSTNAME DEALSIZE  year month day  \n",
       "0          Valarie   Medium  2003     1   6  \n",
       "1          Valarie   Medium  2003     1   6  \n",
       "2          Valarie    Small  2003     1   6  \n",
       "3          Valarie    Small  2003     1   6  \n",
       "4           Roland   Medium  2003     1   9  \n",
       "\n",
       "[5 rows x 24 columns]"
      ]
     },
     "execution_count": 76,
     "metadata": {},
     "output_type": "execute_result"
    }
   ],
   "source": [
    "parts = data[\"ORDERDATE\"].astype(str).str.split(\"-\", n = 3, expand = True) \n",
    "data[\"year\"]= parts[0].astype('int') \n",
    "data[\"month\"]= parts[1].astype('int') \n",
    "data[\"day\"]= parts[2].astype('int') \n",
    "data.head()"
   ]
  },
  {
   "cell_type": "markdown",
   "metadata": {},
   "source": [
    "## SLR"
   ]
  },
  {
   "cell_type": "code",
   "execution_count": 108,
   "metadata": {},
   "outputs": [
    {
     "data": {
      "text/plain": [
       "LinearRegression()"
      ]
     },
     "execution_count": 108,
     "metadata": {},
     "output_type": "execute_result"
    }
   ],
   "source": [
    "from sklearn.linear_model import LinearRegression\n",
    "lr = LinearRegression()\n",
    "lr.fit(X_train, Y_train)"
   ]
  },
  {
   "cell_type": "code",
   "execution_count": 109,
   "metadata": {},
   "outputs": [
    {
     "data": {
      "text/plain": [
       "array([103.10911131,  39.8942681 ,  -9.73005158, -10.46698662,\n",
       "         5.82824042,  19.74055116,  -8.45206966,  15.36447253,\n",
       "        -0.14053426,   0.10728338])"
      ]
     },
     "execution_count": 109,
     "metadata": {},
     "output_type": "execute_result"
    }
   ],
   "source": [
    "lr.coef_"
   ]
  },
  {
   "cell_type": "code",
   "execution_count": 110,
   "metadata": {},
   "outputs": [
    {
     "data": {
      "text/plain": [
       "-44446.05380852528"
      ]
     },
     "execution_count": 110,
     "metadata": {},
     "output_type": "execute_result"
    }
   ],
   "source": [
    "lr.intercept_"
   ]
  },
  {
   "cell_type": "code",
   "execution_count": 111,
   "metadata": {},
   "outputs": [
    {
     "data": {
      "text/plain": [
       "array([ 5575.41609392,  2300.33631614,  3510.03911387,   187.75790335,\n",
       "        4534.94430049,  6013.67948121,  3566.62402862,   135.67476724,\n",
       "        4526.01445089,  5180.02757882,  4409.59314989,  2353.08399689,\n",
       "        4232.13004751,  3390.45083395,  4044.1265118 ,  4667.01094642,\n",
       "        4021.47292762,  6413.76294902,  4260.27337298,  3216.57690152,\n",
       "        2929.2569659 ,  3390.56250236,  4613.60181434,  5082.06017195,\n",
       "        3089.29594912,  2846.92899681,   801.33409058,  3348.36644285,\n",
       "        1321.48738008,  -503.03134686,  5443.77223134,  4186.5949682 ,\n",
       "        3458.15243584,  2167.43453301,  2251.45804398,  1918.69106855,\n",
       "        1202.18707374,  3936.18111129,  2500.06545343,  -427.62977427,\n",
       "         795.37646488,  3207.45597347,  3831.4893127 ,  6178.38134732,\n",
       "        6015.07363988,  6293.8448465 ,  4408.31500507,  5481.21796195,\n",
       "        1379.66284661,  4296.36845337,  1390.84496521,  3104.8107333 ,\n",
       "       -1036.90238617,  3620.57769812,  3719.35802961,  3035.73306119,\n",
       "        3558.35426494,  4849.82678688,  3972.79587091,  2550.62361014,\n",
       "        2959.75865782,  4127.53797401,  5574.4188355 ,  5635.47192058,\n",
       "        6613.38925701,  5076.41039686,  -239.9423917 ,  4004.80916047,\n",
       "        1756.55926421,  3196.58890947,  3675.67894405,  4980.06385148,\n",
       "        -165.42857826,  3713.1505812 ,  3316.31650744,  2201.63703883,\n",
       "        5158.62057768,  3003.67447889,  2286.89518335,   987.89107724,\n",
       "        2781.2783765 ,   457.14234213,  9077.02144049,  1726.44220982,\n",
       "        2146.51813193,  3998.75418252,  4553.11433422,  3016.89278917,\n",
       "         532.62641088,  2904.78382485,  2525.9877498 ,  2932.02331275,\n",
       "        4741.73940226,  6111.9851834 ,   837.63033088,  3538.9371364 ,\n",
       "        3170.07321636,  1510.82320441,  6134.32552619,  2048.16648395,\n",
       "        4758.88091532,  6092.45312826,  3212.60745252,  5900.26731693,\n",
       "        5025.86378777,  6349.36040562,  4282.46350946,  4670.4263333 ,\n",
       "        2245.56458524,   694.80434743,  3407.84808897,  2471.3706302 ,\n",
       "        5368.8390565 ,  3949.80054488,  1151.62434051,  3392.89654275,\n",
       "        5329.46248908,  1721.4867387 ,  7365.16370383,  3917.53730945,\n",
       "        2480.44785705,  -690.38992521,   389.94574893,  3200.08884263,\n",
       "        4868.84852688,  4852.87621267,  5130.36961245,  6894.67822193,\n",
       "        3814.79277971,  5833.92510342, -1006.11055484,  2677.35573654,\n",
       "         521.4992871 ,   203.30486974,  5496.37735946,  1982.19541635,\n",
       "        4141.17373003,  1718.75114268,  3640.59133577,  4854.06381314,\n",
       "         917.16647998,  2344.12157031,  4626.54708205,  2950.82125843,\n",
       "        5276.75193633,  4141.07239983,  3321.71861465,  2480.90479851,\n",
       "        2604.74236942,  5413.41678506,  6755.17336234,   999.60962047,\n",
       "        2121.65252681,  3599.72951997,  3606.66513401,  4987.87827154,\n",
       "        1866.19711291,  3575.85187796,  2620.49961662,  3662.02545102,\n",
       "        5120.83544272,  -945.67943574,  3935.0963575 ,  5243.7557668 ,\n",
       "        3009.83021086,  5427.32352793,  1855.4899867 ,  5656.8887527 ,\n",
       "        3065.83125508,  3835.96639689,  -134.35428123,  5004.79859524,\n",
       "        1063.69808544,  3799.54122283,  5368.39874873,  2571.33736946,\n",
       "        6293.34865316,  1189.78642461,  3990.14147486,  1307.36662687,\n",
       "        3491.10625831,  3378.29549965,  5318.48932906,    96.0500558 ,\n",
       "         638.18667913,  2146.64870547,  3976.9616841 ,  2379.90311662,\n",
       "        -850.18634357,  4224.24366522,  2935.46766338,  3210.43150331,\n",
       "        3246.78306319,  2454.39268662,  2667.268023  ,  3648.80570306,\n",
       "        5462.85025684,  3222.82647155,  5038.53702659,  2937.52653662,\n",
       "        2712.96520886,  3143.05751231,  2659.68241777,  5435.58292225,\n",
       "        5542.66764603,  1440.99989935,  1283.60993866,  4473.31019749,\n",
       "         843.27611378,  5513.64680551,   787.50520811,  6397.96096678,\n",
       "        5724.73515321,  4482.58984643,  2676.00058949,  5859.74262976,\n",
       "        3510.11689813,  3368.32240556,  1337.48884034,  2677.29509196,\n",
       "         347.67357949,  3764.10820518,  1134.41678616,  2446.16600954,\n",
       "        6388.82263027,  5838.50269559,  3557.00501075,  5361.29423396,\n",
       "        4657.08941078,  1758.69578806,  2658.70372077,  3857.65282708,\n",
       "        1286.74070272,  1920.179861  ,  3669.43620046,  4154.9174524 ,\n",
       "         944.59622077,   720.54295979,  2417.89272055,  4537.48138603,\n",
       "         778.02546765,  1637.3897701 ,  3128.78290445,  6965.42417552,\n",
       "        2648.30025378,  3665.59387993,  2776.34113649,  5768.08093405,\n",
       "        4900.5446006 ,  2911.69849317,  4436.73071479,  1304.87916684,\n",
       "        5437.11044905,  3672.32632989,  5329.40400807,   722.72361586,\n",
       "        2902.99157328,  3725.15115301,  3200.90101538,  4031.74485136,\n",
       "        3692.52143598,  3130.98148074,  2223.16876284,  2864.86178474,\n",
       "        3166.12243354,   951.26545362,  1689.55698433,  2841.12273856,\n",
       "        2725.01125405,  4488.11948016,  5140.78424816,  4262.91823397,\n",
       "        4512.32920262,  3376.41224826,  6233.7241101 ,  2878.35052009,\n",
       "        3883.72105591,  2602.48156475,  4719.96343487,  2916.98841544,\n",
       "        4174.87431415,  3801.69170481,  5729.25948402,   804.48453728,\n",
       "        3781.53147169,  3785.26329607,  4211.83516364,  6418.23880285,\n",
       "         147.99288876,  2502.37750884,  4475.5679387 ,  3247.4768871 ,\n",
       "        2593.0364724 ,  5074.26916649,  4375.81570811,  3063.77288423,\n",
       "        4562.65191825,  2633.79303324,  2282.82016073,  6079.92626172,\n",
       "        2915.45649279,  2798.85677272,  5312.92257775,  3072.37337527,\n",
       "        4126.76748853,  5170.7835946 ,  3754.15656437,  5905.25932714,\n",
       "        1639.22912975,  3747.05083596,  3744.39635748,  1109.53847512,\n",
       "        1566.39477869,  5037.42061468,  3773.95131747,  2283.35781979,\n",
       "         723.64653744,  5888.47612746,  1946.68612012,  3478.45267498,\n",
       "         994.00571536,  3002.52090648, -1039.20661487,  5133.45228585,\n",
       "        1475.01876582,  1725.50699931,  3443.66160366,  5833.40942374,\n",
       "        3704.74949556,   989.60401436,  4098.43848788,   -68.94394992,\n",
       "        4826.95625488,  2498.68906514,  1809.69681619,  5513.56795057,\n",
       "        3166.96046764,  2598.77291636,  3906.30890145,  3027.70783296,\n",
       "        4193.63663851,  3412.81793413,  3046.1463272 ,  3516.27616363,\n",
       "        1176.23744012,  5893.59377115,  5265.2788132 ,   990.61971611,\n",
       "        4338.94535434,  2475.4334794 ,    41.24876213,  3128.58294486,\n",
       "        2217.98080391,  2544.81493461,  7980.94458147,   383.38562361,\n",
       "        5466.10879519,  5191.85553692,  5162.62945113,  1575.81860928,\n",
       "        4648.52316844,  9494.18515701,  1172.43384999,  3642.02119079,\n",
       "        2351.56396306,  3899.47070233,  2275.16722036,  5575.68178392,\n",
       "        3106.34542993,   966.11812287,  2430.64324054,  2903.36256539,\n",
       "        6089.22813073,  5796.82376707,  5573.62536119,  2812.9421441 ,\n",
       "        3765.22436211,  4238.17832019,  4104.66524354,  2994.78884495,\n",
       "        4604.13337769,  6886.43880804,  6584.11719291,  3139.49945069,\n",
       "        3658.55714851,  5697.34974151,  1854.7424641 ,  3886.01887526,\n",
       "        5488.48238937,  2573.13515561,  -259.10369881,  1784.0682927 ,\n",
       "        4996.58735797,  5662.75142731,  1670.80863791,  2882.12116619,\n",
       "        4205.7509492 ,  -516.45720563,  2861.31693347,  1822.23747331,\n",
       "        3984.41673887,  2028.93156143,  3201.27401008,  1964.97319758,\n",
       "        3385.47038345,  4237.21198495,  1886.21221203,  4245.90531579,\n",
       "         801.17630224,  5433.69355395,  4454.35028905,  4360.26369922,\n",
       "        6406.59947846,   433.25882889,  6995.51738571,  3435.43683802,\n",
       "        2867.76740197,  4355.1782966 ,  2222.28534802,  6238.21966259,\n",
       "        5777.84326724,  3340.53651858,  3892.94266894,  5704.89369786,\n",
       "        5464.23540389,  2515.24273951,  2912.28331193,  4422.50629388,\n",
       "        3961.54979063,   949.56715394,  3079.23770355,  3389.40047328,\n",
       "        3925.57404211,  1220.06587217,  1949.65302517,  5128.24676801,\n",
       "        4313.12907813,  3649.17197563,  5471.07748922,  2006.14718491,\n",
       "        2474.38269544,  5524.0650797 ,  5437.80613834,  4646.66480065,\n",
       "        4658.12503123,  3224.79218634,  3044.32253381,  5427.40714206,\n",
       "        -990.93557893,  3803.0813538 ,  2821.48853867,  5009.6880165 ,\n",
       "        2447.29561684,  4581.33033194,  1549.28880537,  5004.29825227,\n",
       "        4268.58477727,  3444.42025692,  5353.65698842,  5421.37749033,\n",
       "        2104.42430514,  6600.61023262,  4417.58158501,  5356.10569437,\n",
       "        2999.82041396,  3673.32461491,   450.47832961,  2543.03825298,\n",
       "        4725.16596885,  5262.68188941,  4209.4994974 ,  3385.60179241,\n",
       "        2919.40234991,  2312.3313737 ,   575.32178976,    93.07169301,\n",
       "        4779.98443352,  6287.53137378,   551.29022742,   124.76143867,\n",
       "        3022.27422616,  -225.56667072,  5107.82964353,  4319.52840139,\n",
       "        2096.96271095,  5295.37947367,   998.62949443,  2993.68405764,\n",
       "        3954.11606854,  5233.50283287,  6311.14668072,   952.50039847,\n",
       "        6644.73539604,  3773.81247022,  4775.93099098,  3157.98172686,\n",
       "        3712.32185062,   819.96185041,  1861.59908   ,  2894.98157053,\n",
       "         233.95809014,  4536.80134081,  5053.03687381,  3170.86548526,\n",
       "        3969.93301077,  4788.62701785,  5548.06553531,  2732.2490922 ,\n",
       "        5162.97600837,  2786.06815277,  2404.61388979,  4286.4534553 ,\n",
       "        2676.08160738,  5471.61520357,  4295.73959334,  1251.13219437,\n",
       "        4449.62393422,  3430.18786807,  3090.41574636,  6265.37113363,\n",
       "        4390.34931593,  3822.22097162,  4963.47472025,  4775.78600609,\n",
       "        3215.8074384 ,  1448.8821739 ,  1622.72897026,  3314.48875898,\n",
       "        3106.68453244,  2824.08943409,  1328.57587494,  5013.84503293,\n",
       "        3529.93961495,    90.63186427,  1240.64145896,  4542.93078674,\n",
       "         545.2751706 ,  4708.08530783,  4133.11900455,  3381.64198798,\n",
       "        4785.81753328,  3064.04969867,  1294.49217248,  4652.16779865,\n",
       "        2488.14882857,   347.85080794,  1911.91571398,  4045.12184964,\n",
       "        4383.50045537,  2823.63381224,  5007.40266924,  3547.04876624,\n",
       "        2692.2755157 ,  3862.29211496,  3499.88469988,  5866.41445504,\n",
       "        3211.14190073,  1592.93629307,  2681.05076436,  6287.73744546,\n",
       "        3810.5580875 ,  2129.69056279,  2783.31020535,  4392.64608352,\n",
       "        3474.4933887 ])"
      ]
     },
     "execution_count": 111,
     "metadata": {},
     "output_type": "execute_result"
    }
   ],
   "source": [
    "Y_pred = lr.predict(X_test)\n",
    "Y_pred"
   ]
  },
  {
   "cell_type": "code",
   "execution_count": 112,
   "metadata": {},
   "outputs": [
    {
     "data": {
      "text/plain": [
       "79.73716067791554"
      ]
     },
     "execution_count": 112,
     "metadata": {},
     "output_type": "execute_result"
    }
   ],
   "source": [
    "from sklearn.metrics import r2_score\n",
    "r2_score(Y_test, Y_pred)*100"
   ]
  },
  {
   "cell_type": "markdown",
   "metadata": {},
   "source": [
    "## MLR"
   ]
  },
  {
   "cell_type": "code",
   "execution_count": 113,
   "metadata": {},
   "outputs": [
    {
     "data": {
      "text/plain": [
       "array([[1.0000e+00, 3.0000e+01, 1.0000e+02, ..., 6.4800e+04, 1.9440e+04,\n",
       "        5.8320e+03],\n",
       "       [1.0000e+00, 5.0000e+01, 6.7800e+01, ..., 6.4800e+04, 1.9440e+04,\n",
       "        5.8320e+03],\n",
       "       [1.0000e+00, 2.2000e+01, 8.6510e+01, ..., 6.4800e+04, 1.9440e+04,\n",
       "        5.8320e+03],\n",
       "       ...,\n",
       "       [1.0000e+00, 4.4000e+01, 6.1410e+01, ..., 1.5246e+04, 6.4680e+03,\n",
       "        2.7440e+03],\n",
       "       [1.0000e+00, 1.8000e+01, 1.0000e+02, ..., 1.1616e+04, 1.5840e+03,\n",
       "        2.1600e+02],\n",
       "       [1.0000e+00, 4.6000e+01, 8.0920e+01, ..., 1.5246e+04, 6.4680e+03,\n",
       "        2.7440e+03]])"
      ]
     },
     "execution_count": 113,
     "metadata": {},
     "output_type": "execute_result"
    }
   ],
   "source": [
    "from sklearn.preprocessing import PolynomialFeatures\n",
    "pf = PolynomialFeatures(degree=3)\n",
    "\n",
    "X_poly = pf.fit_transform(X)\n",
    "X_poly"
   ]
  },
  {
   "cell_type": "code",
   "execution_count": 114,
   "metadata": {},
   "outputs": [
    {
     "data": {
      "text/plain": [
       "LinearRegression()"
      ]
     },
     "execution_count": 114,
     "metadata": {},
     "output_type": "execute_result"
    }
   ],
   "source": [
    "from sklearn.linear_model import LinearRegression\n",
    "\n",
    "poly_reg = LinearRegression()\n",
    "poly_reg.fit(X_poly, Y)"
   ]
  },
  {
   "cell_type": "code",
   "execution_count": 115,
   "metadata": {},
   "outputs": [
    {
     "data": {
      "text/plain": [
       "array([4575.53704783, 3501.45893887, 2095.30006573, ..., 2481.53287026,\n",
       "       2265.70747611, 3924.55113599])"
      ]
     },
     "execution_count": 115,
     "metadata": {},
     "output_type": "execute_result"
    }
   ],
   "source": [
    "Y_pred_2 = poly_reg.predict(X_poly)\n",
    "Y_pred_2"
   ]
  },
  {
   "cell_type": "code",
   "execution_count": 116,
   "metadata": {},
   "outputs": [
    {
     "data": {
      "text/plain": [
       "79.73716067791554"
      ]
     },
     "execution_count": 116,
     "metadata": {},
     "output_type": "execute_result"
    }
   ],
   "source": [
    "from sklearn.metrics import r2_score\n",
    "r2_score(Y_test, Y_pred)*100"
   ]
  },
  {
   "cell_type": "code",
   "execution_count": null,
   "metadata": {},
   "outputs": [],
   "source": []
  },
  {
   "cell_type": "markdown",
   "metadata": {},
   "source": [
    "## Lasso"
   ]
  },
  {
   "cell_type": "code",
   "execution_count": 117,
   "metadata": {},
   "outputs": [
    {
     "data": {
      "text/plain": [
       "Lasso(alpha=0.1)"
      ]
     },
     "execution_count": 117,
     "metadata": {},
     "output_type": "execute_result"
    }
   ],
   "source": [
    "from sklearn.linear_model import Lasso\n",
    "lasso = Lasso(alpha = 0.1)\n",
    "lasso.fit(X_train,Y_train)"
   ]
  },
  {
   "cell_type": "code",
   "execution_count": 118,
   "metadata": {},
   "outputs": [],
   "source": [
    "## Prediction --- Testing\n",
    "Y_pred = lasso.predict(X_test)"
   ]
  },
  {
   "cell_type": "code",
   "execution_count": 119,
   "metadata": {},
   "outputs": [
    {
     "data": {
      "text/plain": [
       "79.73605082956374"
      ]
     },
     "execution_count": 119,
     "metadata": {},
     "output_type": "execute_result"
    }
   ],
   "source": [
    "from sklearn.metrics import r2_score\n",
    "r2_score(Y_test, Y_pred)*100"
   ]
  },
  {
   "cell_type": "code",
   "execution_count": null,
   "metadata": {},
   "outputs": [],
   "source": []
  },
  {
   "cell_type": "markdown",
   "metadata": {},
   "source": [
    "## Ridge"
   ]
  },
  {
   "cell_type": "code",
   "execution_count": 120,
   "metadata": {},
   "outputs": [
    {
     "data": {
      "text/plain": [
       "Ridge(alpha=0.1)"
      ]
     },
     "execution_count": 120,
     "metadata": {},
     "output_type": "execute_result"
    }
   ],
   "source": [
    "from sklearn.linear_model import Ridge\n",
    "ridge = Ridge(alpha = 0.1)\n",
    "ridge.fit(X_train,Y_train)"
   ]
  },
  {
   "cell_type": "code",
   "execution_count": 121,
   "metadata": {},
   "outputs": [],
   "source": [
    "## Prediction --- Testing\n",
    "Y_pred = ridge.predict(X_test)"
   ]
  },
  {
   "cell_type": "code",
   "execution_count": 122,
   "metadata": {},
   "outputs": [
    {
     "data": {
      "text/plain": [
       "79.73715685489911"
      ]
     },
     "execution_count": 122,
     "metadata": {},
     "output_type": "execute_result"
    }
   ],
   "source": [
    "from sklearn.metrics import r2_score\n",
    "r2_score(Y_test, Y_pred)*100"
   ]
  },
  {
   "cell_type": "code",
   "execution_count": null,
   "metadata": {},
   "outputs": [],
   "source": []
  },
  {
   "cell_type": "markdown",
   "metadata": {},
   "source": [
    "## Random Forest"
   ]
  },
  {
   "cell_type": "code",
   "execution_count": 123,
   "metadata": {},
   "outputs": [
    {
     "data": {
      "text/plain": [
       "RandomForestRegressor()"
      ]
     },
     "execution_count": 123,
     "metadata": {},
     "output_type": "execute_result"
    }
   ],
   "source": [
    "from sklearn.ensemble import RandomForestRegressor\n",
    "rfr=RandomForestRegressor(n_estimators=100)\n",
    "rfr.fit(X_train, Y_train)"
   ]
  },
  {
   "cell_type": "code",
   "execution_count": 124,
   "metadata": {},
   "outputs": [],
   "source": [
    "Y_pred=rfr.predict(X_test)"
   ]
  },
  {
   "cell_type": "code",
   "execution_count": 125,
   "metadata": {},
   "outputs": [
    {
     "data": {
      "text/plain": [
       "90.85902749681823"
      ]
     },
     "execution_count": 125,
     "metadata": {},
     "output_type": "execute_result"
    }
   ],
   "source": [
    "from sklearn.metrics import r2_score\n",
    "r2_score(Y_test, Y_pred)*100"
   ]
  },
  {
   "cell_type": "code",
   "execution_count": null,
   "metadata": {},
   "outputs": [],
   "source": []
  },
  {
   "cell_type": "markdown",
   "metadata": {},
   "source": [
    "## Decision Tree"
   ]
  },
  {
   "cell_type": "code",
   "execution_count": null,
   "metadata": {},
   "outputs": [],
   "source": [
    "from sklearn.model_selection import train_test_split\n",
    "X_train, X_test, Y_train, Y_test=train_test_split(X,Y, test_size=0.2, random_state=42)\n"
   ]
  },
  {
   "cell_type": "code",
   "execution_count": 126,
   "metadata": {},
   "outputs": [
    {
     "data": {
      "text/plain": [
       "DecisionTreeRegressor()"
      ]
     },
     "execution_count": 126,
     "metadata": {},
     "output_type": "execute_result"
    }
   ],
   "source": [
    "from sklearn.tree import DecisionTreeRegressor\n",
    "dtr=DecisionTreeRegressor()\n",
    "dtr.fit(X_train, Y_train)"
   ]
  },
  {
   "cell_type": "code",
   "execution_count": 127,
   "metadata": {},
   "outputs": [],
   "source": [
    "Y_pred=dtr.predict(X_test)"
   ]
  },
  {
   "cell_type": "code",
   "execution_count": 128,
   "metadata": {},
   "outputs": [
    {
     "data": {
      "text/plain": [
       "85.24833951798583"
      ]
     },
     "execution_count": 128,
     "metadata": {},
     "output_type": "execute_result"
    }
   ],
   "source": [
    "from sklearn.metrics import r2_score\n",
    "r2_score(Y_test, Y_pred)*100"
   ]
  },
  {
   "cell_type": "code",
   "execution_count": 129,
   "metadata": {},
   "outputs": [
    {
     "name": "stdout",
     "output_type": "stream",
     "text": [
      "LinearRegression() : \n",
      "Training Accuracy :  79.6628416376094\n",
      "Validation :  79.73716067791554\n",
      "\n",
      "Lasso(alpha=0.1) : \n",
      "Training Accuracy :  79.66283163760092\n",
      "Validation :  79.73605082956374\n",
      "\n",
      "Ridge(alpha=0.1) : \n",
      "Training Accuracy :  79.66284163740316\n",
      "Validation :  79.73715685489911\n",
      "\n",
      "DecisionTreeRegressor() : \n",
      "Training Accuracy :  100.0\n",
      "Validation :  82.45627700157796\n",
      "\n",
      "RandomForestRegressor() : \n",
      "Training Accuracy :  98.49944263376551\n",
      "Validation :  90.71363589189895\n",
      "\n"
     ]
    }
   ],
   "source": [
    "models = [LinearRegression(), Lasso(alpha = 0.1), Ridge(alpha = 0.1),\\\n",
    "          DecisionTreeRegressor(),RandomForestRegressor(n_estimators=100)] \n",
    "\n",
    "for i in range(5): \n",
    "    models[i].fit(X_train, Y_train) \n",
    "    print(f'{models[i]} : ') \n",
    "\n",
    "    train_preds = models[i].predict(X_train) \n",
    "    print('Training Accuracy : ', r2_score(Y_train, train_preds)*100) \n",
    "\n",
    "    val_preds = models[i].predict(X_test) \n",
    "    print('Validation : ', r2_score(Y_test, val_preds)*100) \n",
    "    print() \n"
   ]
  },
  {
   "cell_type": "code",
   "execution_count": 130,
   "metadata": {},
   "outputs": [
    {
     "name": "stdout",
     "output_type": "stream",
     "text": [
      "                   Model  Training Accuracy (%)  Validation Accuracy (%)\n",
      "0       LinearRegression              79.662842                79.737161\n",
      "1                  Lasso              79.662832                79.736051\n",
      "2                  Ridge              79.662842                79.737157\n",
      "3  DecisionTreeRegressor             100.000000                83.946560\n",
      "4  RandomForestRegressor              98.516209                90.688486\n"
     ]
    }
   ],
   "source": [
    "import pandas as pd\n",
    "from sklearn.linear_model import LinearRegression, Lasso, Ridge\n",
    "from sklearn.tree import DecisionTreeRegressor\n",
    "from sklearn.ensemble import RandomForestRegressor\n",
    "from sklearn.metrics import r2_score\n",
    "\n",
    "# List of models\n",
    "models = [\n",
    "    LinearRegression(), \n",
    "    Lasso(alpha=0.1), \n",
    "    Ridge(alpha=0.1),\n",
    "    DecisionTreeRegressor(),\n",
    "    RandomForestRegressor(n_estimators=100)\n",
    "]\n",
    "\n",
    "# List to store the results\n",
    "results = []\n",
    "\n",
    "# Fit models and record the performance\n",
    "for model in models:\n",
    "    model.fit(X_train, Y_train)\n",
    "    \n",
    "    train_preds = model.predict(X_train)\n",
    "    train_score = r2_score(Y_train, train_preds) * 100\n",
    "    \n",
    "    val_preds = model.predict(X_test)\n",
    "    val_score = r2_score(Y_test, val_preds) * 100\n",
    "    \n",
    "    results.append({\n",
    "        'Model': model.__class__.__name__,\n",
    "        'Training Accuracy (%)': train_score,\n",
    "        'Validation Accuracy (%)': val_score\n",
    "    })\n",
    "\n",
    "# Create a DataFrame to display the results in tabular format\n",
    "results_df = pd.DataFrame(results)\n",
    "\n",
    "# Print the DataFrame\n",
    "print(results_df)\n"
   ]
  },
  {
   "cell_type": "code",
   "execution_count": null,
   "metadata": {},
   "outputs": [],
   "source": []
  },
  {
   "cell_type": "code",
   "execution_count": null,
   "metadata": {},
   "outputs": [],
   "source": []
  },
  {
   "cell_type": "markdown",
   "metadata": {},
   "source": [
    "## Time Series Analysis"
   ]
  },
  {
   "cell_type": "code",
   "execution_count": 77,
   "metadata": {},
   "outputs": [],
   "source": [
    "df = pd.read_csv('amazon_price.csv',encoding='unicode_escape')"
   ]
  },
  {
   "cell_type": "code",
   "execution_count": 78,
   "metadata": {},
   "outputs": [
    {
     "data": {
      "text/html": [
       "<div>\n",
       "<style scoped>\n",
       "    .dataframe tbody tr th:only-of-type {\n",
       "        vertical-align: middle;\n",
       "    }\n",
       "\n",
       "    .dataframe tbody tr th {\n",
       "        vertical-align: top;\n",
       "    }\n",
       "\n",
       "    .dataframe thead th {\n",
       "        text-align: right;\n",
       "    }\n",
       "</style>\n",
       "<table border=\"1\" class=\"dataframe\">\n",
       "  <thead>\n",
       "    <tr style=\"text-align: right;\">\n",
       "      <th></th>\n",
       "      <th>Date</th>\n",
       "      <th>Price</th>\n",
       "    </tr>\n",
       "  </thead>\n",
       "  <tbody>\n",
       "    <tr>\n",
       "      <th>0</th>\n",
       "      <td>1950-01</td>\n",
       "      <td>34.73</td>\n",
       "    </tr>\n",
       "    <tr>\n",
       "      <th>1</th>\n",
       "      <td>1950-02</td>\n",
       "      <td>34.73</td>\n",
       "    </tr>\n",
       "    <tr>\n",
       "      <th>2</th>\n",
       "      <td>1950-03</td>\n",
       "      <td>34.73</td>\n",
       "    </tr>\n",
       "    <tr>\n",
       "      <th>3</th>\n",
       "      <td>1950-04</td>\n",
       "      <td>34.73</td>\n",
       "    </tr>\n",
       "    <tr>\n",
       "      <th>4</th>\n",
       "      <td>1950-05</td>\n",
       "      <td>34.73</td>\n",
       "    </tr>\n",
       "  </tbody>\n",
       "</table>\n",
       "</div>"
      ],
      "text/plain": [
       "      Date  Price\n",
       "0  1950-01  34.73\n",
       "1  1950-02  34.73\n",
       "2  1950-03  34.73\n",
       "3  1950-04  34.73\n",
       "4  1950-05  34.73"
      ]
     },
     "execution_count": 78,
     "metadata": {},
     "output_type": "execute_result"
    }
   ],
   "source": [
    "df.head()"
   ]
  },
  {
   "cell_type": "code",
   "execution_count": 79,
   "metadata": {},
   "outputs": [],
   "source": [
    "# df = data[[\"ORDERDATE\",\"SALES\"]]"
   ]
  },
  {
   "cell_type": "code",
   "execution_count": 80,
   "metadata": {},
   "outputs": [
    {
     "data": {
      "text/html": [
       "<div>\n",
       "<style scoped>\n",
       "    .dataframe tbody tr th:only-of-type {\n",
       "        vertical-align: middle;\n",
       "    }\n",
       "\n",
       "    .dataframe tbody tr th {\n",
       "        vertical-align: top;\n",
       "    }\n",
       "\n",
       "    .dataframe thead th {\n",
       "        text-align: right;\n",
       "    }\n",
       "</style>\n",
       "<table border=\"1\" class=\"dataframe\">\n",
       "  <thead>\n",
       "    <tr style=\"text-align: right;\">\n",
       "      <th></th>\n",
       "      <th>Date</th>\n",
       "      <th>Price</th>\n",
       "    </tr>\n",
       "  </thead>\n",
       "  <tbody>\n",
       "    <tr>\n",
       "      <th>0</th>\n",
       "      <td>1950-01</td>\n",
       "      <td>34.730</td>\n",
       "    </tr>\n",
       "    <tr>\n",
       "      <th>1</th>\n",
       "      <td>1950-02</td>\n",
       "      <td>34.730</td>\n",
       "    </tr>\n",
       "    <tr>\n",
       "      <th>2</th>\n",
       "      <td>1950-03</td>\n",
       "      <td>34.730</td>\n",
       "    </tr>\n",
       "    <tr>\n",
       "      <th>3</th>\n",
       "      <td>1950-04</td>\n",
       "      <td>34.730</td>\n",
       "    </tr>\n",
       "    <tr>\n",
       "      <th>4</th>\n",
       "      <td>1950-05</td>\n",
       "      <td>34.730</td>\n",
       "    </tr>\n",
       "    <tr>\n",
       "      <th>...</th>\n",
       "      <td>...</td>\n",
       "      <td>...</td>\n",
       "    </tr>\n",
       "    <tr>\n",
       "      <th>842</th>\n",
       "      <td>2020-03</td>\n",
       "      <td>1593.764</td>\n",
       "    </tr>\n",
       "    <tr>\n",
       "      <th>843</th>\n",
       "      <td>2020-04</td>\n",
       "      <td>1680.030</td>\n",
       "    </tr>\n",
       "    <tr>\n",
       "      <th>844</th>\n",
       "      <td>2020-05</td>\n",
       "      <td>1715.697</td>\n",
       "    </tr>\n",
       "    <tr>\n",
       "      <th>845</th>\n",
       "      <td>2020-06</td>\n",
       "      <td>1734.032</td>\n",
       "    </tr>\n",
       "    <tr>\n",
       "      <th>846</th>\n",
       "      <td>2020-07</td>\n",
       "      <td>1840.807</td>\n",
       "    </tr>\n",
       "  </tbody>\n",
       "</table>\n",
       "<p>847 rows × 2 columns</p>\n",
       "</div>"
      ],
      "text/plain": [
       "        Date     Price\n",
       "0    1950-01    34.730\n",
       "1    1950-02    34.730\n",
       "2    1950-03    34.730\n",
       "3    1950-04    34.730\n",
       "4    1950-05    34.730\n",
       "..       ...       ...\n",
       "842  2020-03  1593.764\n",
       "843  2020-04  1680.030\n",
       "844  2020-05  1715.697\n",
       "845  2020-06  1734.032\n",
       "846  2020-07  1840.807\n",
       "\n",
       "[847 rows x 2 columns]"
      ]
     },
     "execution_count": 80,
     "metadata": {},
     "output_type": "execute_result"
    }
   ],
   "source": [
    "df"
   ]
  },
  {
   "cell_type": "code",
   "execution_count": 81,
   "metadata": {},
   "outputs": [
    {
     "data": {
      "text/html": [
       "<div>\n",
       "<style scoped>\n",
       "    .dataframe tbody tr th:only-of-type {\n",
       "        vertical-align: middle;\n",
       "    }\n",
       "\n",
       "    .dataframe tbody tr th {\n",
       "        vertical-align: top;\n",
       "    }\n",
       "\n",
       "    .dataframe thead th {\n",
       "        text-align: right;\n",
       "    }\n",
       "</style>\n",
       "<table border=\"1\" class=\"dataframe\">\n",
       "  <thead>\n",
       "    <tr style=\"text-align: right;\">\n",
       "      <th></th>\n",
       "      <th>Date</th>\n",
       "      <th>Price</th>\n",
       "    </tr>\n",
       "  </thead>\n",
       "  <tbody>\n",
       "    <tr>\n",
       "      <th>0</th>\n",
       "      <td>1950-01-01</td>\n",
       "      <td>34.73</td>\n",
       "    </tr>\n",
       "    <tr>\n",
       "      <th>1</th>\n",
       "      <td>1950-02-01</td>\n",
       "      <td>34.73</td>\n",
       "    </tr>\n",
       "    <tr>\n",
       "      <th>2</th>\n",
       "      <td>1950-03-01</td>\n",
       "      <td>34.73</td>\n",
       "    </tr>\n",
       "    <tr>\n",
       "      <th>3</th>\n",
       "      <td>1950-04-01</td>\n",
       "      <td>34.73</td>\n",
       "    </tr>\n",
       "    <tr>\n",
       "      <th>4</th>\n",
       "      <td>1950-05-01</td>\n",
       "      <td>34.73</td>\n",
       "    </tr>\n",
       "  </tbody>\n",
       "</table>\n",
       "</div>"
      ],
      "text/plain": [
       "        Date  Price\n",
       "0 1950-01-01  34.73\n",
       "1 1950-02-01  34.73\n",
       "2 1950-03-01  34.73\n",
       "3 1950-04-01  34.73\n",
       "4 1950-05-01  34.73"
      ]
     },
     "execution_count": 81,
     "metadata": {},
     "output_type": "execute_result"
    }
   ],
   "source": [
    "df[\"Date\"]=pd.to_datetime(df[\"Date\"], infer_datetime_format=True)\n",
    "df.head()"
   ]
  },
  {
   "cell_type": "code",
   "execution_count": 82,
   "metadata": {},
   "outputs": [
    {
     "name": "stdout",
     "output_type": "stream",
     "text": [
      "<class 'pandas.core.frame.DataFrame'>\n",
      "RangeIndex: 847 entries, 0 to 846\n",
      "Data columns (total 2 columns):\n",
      " #   Column  Non-Null Count  Dtype         \n",
      "---  ------  --------------  -----         \n",
      " 0   Date    847 non-null    datetime64[ns]\n",
      " 1   Price   847 non-null    float64       \n",
      "dtypes: datetime64[ns](1), float64(1)\n",
      "memory usage: 13.4 KB\n"
     ]
    }
   ],
   "source": [
    "df.info()"
   ]
  },
  {
   "cell_type": "code",
   "execution_count": 83,
   "metadata": {},
   "outputs": [
    {
     "data": {
      "text/html": [
       "<div>\n",
       "<style scoped>\n",
       "    .dataframe tbody tr th:only-of-type {\n",
       "        vertical-align: middle;\n",
       "    }\n",
       "\n",
       "    .dataframe tbody tr th {\n",
       "        vertical-align: top;\n",
       "    }\n",
       "\n",
       "    .dataframe thead th {\n",
       "        text-align: right;\n",
       "    }\n",
       "</style>\n",
       "<table border=\"1\" class=\"dataframe\">\n",
       "  <thead>\n",
       "    <tr style=\"text-align: right;\">\n",
       "      <th></th>\n",
       "      <th>Price</th>\n",
       "    </tr>\n",
       "    <tr>\n",
       "      <th>Date</th>\n",
       "      <th></th>\n",
       "    </tr>\n",
       "  </thead>\n",
       "  <tbody>\n",
       "    <tr>\n",
       "      <th>2020-02-01</th>\n",
       "      <td>1598.818</td>\n",
       "    </tr>\n",
       "    <tr>\n",
       "      <th>2020-03-01</th>\n",
       "      <td>1593.764</td>\n",
       "    </tr>\n",
       "    <tr>\n",
       "      <th>2020-04-01</th>\n",
       "      <td>1680.030</td>\n",
       "    </tr>\n",
       "    <tr>\n",
       "      <th>2020-05-01</th>\n",
       "      <td>1715.697</td>\n",
       "    </tr>\n",
       "    <tr>\n",
       "      <th>2020-06-01</th>\n",
       "      <td>1734.032</td>\n",
       "    </tr>\n",
       "    <tr>\n",
       "      <th>2020-07-01</th>\n",
       "      <td>1840.807</td>\n",
       "    </tr>\n",
       "  </tbody>\n",
       "</table>\n",
       "</div>"
      ],
      "text/plain": [
       "               Price\n",
       "Date                \n",
       "2020-02-01  1598.818\n",
       "2020-03-01  1593.764\n",
       "2020-04-01  1680.030\n",
       "2020-05-01  1715.697\n",
       "2020-06-01  1734.032\n",
       "2020-07-01  1840.807"
      ]
     },
     "execution_count": 83,
     "metadata": {},
     "output_type": "execute_result"
    }
   ],
   "source": [
    "df=df.set_index(\"Date\")\n",
    "df.head()\n",
    "df.tail(6)"
   ]
  },
  {
   "cell_type": "code",
   "execution_count": 84,
   "metadata": {},
   "outputs": [
    {
     "data": {
      "text/html": [
       "<div>\n",
       "<style scoped>\n",
       "    .dataframe tbody tr th:only-of-type {\n",
       "        vertical-align: middle;\n",
       "    }\n",
       "\n",
       "    .dataframe tbody tr th {\n",
       "        vertical-align: top;\n",
       "    }\n",
       "\n",
       "    .dataframe thead th {\n",
       "        text-align: right;\n",
       "    }\n",
       "</style>\n",
       "<table border=\"1\" class=\"dataframe\">\n",
       "  <thead>\n",
       "    <tr style=\"text-align: right;\">\n",
       "      <th></th>\n",
       "      <th>Price</th>\n",
       "    </tr>\n",
       "    <tr>\n",
       "      <th>Date</th>\n",
       "      <th></th>\n",
       "    </tr>\n",
       "  </thead>\n",
       "  <tbody>\n",
       "    <tr>\n",
       "      <th>1950-01-01</th>\n",
       "      <td>34.730</td>\n",
       "    </tr>\n",
       "    <tr>\n",
       "      <th>1950-02-01</th>\n",
       "      <td>34.730</td>\n",
       "    </tr>\n",
       "    <tr>\n",
       "      <th>1950-03-01</th>\n",
       "      <td>34.730</td>\n",
       "    </tr>\n",
       "    <tr>\n",
       "      <th>1950-04-01</th>\n",
       "      <td>34.730</td>\n",
       "    </tr>\n",
       "    <tr>\n",
       "      <th>1950-05-01</th>\n",
       "      <td>34.730</td>\n",
       "    </tr>\n",
       "    <tr>\n",
       "      <th>...</th>\n",
       "      <td>...</td>\n",
       "    </tr>\n",
       "    <tr>\n",
       "      <th>2020-03-01</th>\n",
       "      <td>1593.764</td>\n",
       "    </tr>\n",
       "    <tr>\n",
       "      <th>2020-04-01</th>\n",
       "      <td>1680.030</td>\n",
       "    </tr>\n",
       "    <tr>\n",
       "      <th>2020-05-01</th>\n",
       "      <td>1715.697</td>\n",
       "    </tr>\n",
       "    <tr>\n",
       "      <th>2020-06-01</th>\n",
       "      <td>1734.032</td>\n",
       "    </tr>\n",
       "    <tr>\n",
       "      <th>2020-07-01</th>\n",
       "      <td>1840.807</td>\n",
       "    </tr>\n",
       "  </tbody>\n",
       "</table>\n",
       "<p>847 rows × 1 columns</p>\n",
       "</div>"
      ],
      "text/plain": [
       "               Price\n",
       "Date                \n",
       "1950-01-01    34.730\n",
       "1950-02-01    34.730\n",
       "1950-03-01    34.730\n",
       "1950-04-01    34.730\n",
       "1950-05-01    34.730\n",
       "...              ...\n",
       "2020-03-01  1593.764\n",
       "2020-04-01  1680.030\n",
       "2020-05-01  1715.697\n",
       "2020-06-01  1734.032\n",
       "2020-07-01  1840.807\n",
       "\n",
       "[847 rows x 1 columns]"
      ]
     },
     "execution_count": 84,
     "metadata": {},
     "output_type": "execute_result"
    }
   ],
   "source": [
    "df"
   ]
  },
  {
   "cell_type": "code",
   "execution_count": 86,
   "metadata": {},
   "outputs": [
    {
     "data": {
      "image/png": "[encoded data removed]",
      "text/plain": [
       "<Figure size 1080x720 with 1 Axes>"
      ]
     },
     "metadata": {
      "needs_background": "light"
     },
     "output_type": "display_data"
    }
   ],
   "source": [
    "plt.figure(figsize = (15,10))\n",
    "plt.plot(df)\n",
    "plt.xlabel(\"Date\")\n",
    "plt.ylabel(\"Price\")\n",
    "plt.show()"
   ]
  },
  {
   "cell_type": "code",
   "execution_count": 87,
   "metadata": {},
   "outputs": [],
   "source": [
    "df.sort_index(inplace=True)"
   ]
  },
  {
   "cell_type": "code",
   "execution_count": 88,
   "metadata": {},
   "outputs": [
    {
     "data": {
      "text/plain": [
       "<Figure size 720x576 with 0 Axes>"
      ]
     },
     "metadata": {},
     "output_type": "display_data"
    },
    {
     "data": {
      "image/png": "[encoded data removed]",
      "text/plain": [
       "<Figure size 432x288 with 4 Axes>"
      ]
     },
     "metadata": {
      "needs_background": "light"
     },
     "output_type": "display_data"
    }
   ],
   "source": [
    "from statsmodels.tsa.seasonal import seasonal_decompose\n",
    "\n",
    "result = seasonal_decompose(df[\"Price\"], model=\"multiplicative\", period=12)\n",
    "plt.figure(figsize = (10,8))\n",
    "result.plot()\n",
    "plt.show()"
   ]
  },
  {
   "cell_type": "code",
   "execution_count": 89,
   "metadata": {},
   "outputs": [
    {
     "data": {
      "image/png": "[encoded data removed]",
      "text/plain": [
       "<Figure size 432x288 with 4 Axes>"
      ]
     },
     "metadata": {
      "needs_background": "light"
     },
     "output_type": "display_data"
    }
   ],
   "source": [
    "from statsmodels.tsa.seasonal import seasonal_decompose\n",
    "result = seasonal_decompose(df[\"Price\"], model=\"Additive\",period=12)\n",
    "result.plot()\n",
    "plt.show()"
   ]
  },
  {
   "cell_type": "code",
   "execution_count": 90,
   "metadata": {},
   "outputs": [
    {
     "data": {
      "text/html": [
       "<div>\n",
       "<style scoped>\n",
       "    .dataframe tbody tr th:only-of-type {\n",
       "        vertical-align: middle;\n",
       "    }\n",
       "\n",
       "    .dataframe tbody tr th {\n",
       "        vertical-align: top;\n",
       "    }\n",
       "\n",
       "    .dataframe thead th {\n",
       "        text-align: right;\n",
       "    }\n",
       "</style>\n",
       "<table border=\"1\" class=\"dataframe\">\n",
       "  <thead>\n",
       "    <tr style=\"text-align: right;\">\n",
       "      <th></th>\n",
       "      <th>Price</th>\n",
       "    </tr>\n",
       "    <tr>\n",
       "      <th>Date</th>\n",
       "      <th></th>\n",
       "    </tr>\n",
       "  </thead>\n",
       "  <tbody>\n",
       "    <tr>\n",
       "      <th>1950-01-01</th>\n",
       "      <td>34.73</td>\n",
       "    </tr>\n",
       "    <tr>\n",
       "      <th>1950-02-01</th>\n",
       "      <td>34.73</td>\n",
       "    </tr>\n",
       "    <tr>\n",
       "      <th>1950-03-01</th>\n",
       "      <td>34.73</td>\n",
       "    </tr>\n",
       "    <tr>\n",
       "      <th>1950-04-01</th>\n",
       "      <td>34.73</td>\n",
       "    </tr>\n",
       "    <tr>\n",
       "      <th>1950-05-01</th>\n",
       "      <td>34.73</td>\n",
       "    </tr>\n",
       "  </tbody>\n",
       "</table>\n",
       "</div>"
      ],
      "text/plain": [
       "            Price\n",
       "Date             \n",
       "1950-01-01  34.73\n",
       "1950-02-01  34.73\n",
       "1950-03-01  34.73\n",
       "1950-04-01  34.73\n",
       "1950-05-01  34.73"
      ]
     },
     "execution_count": 90,
     "metadata": {},
     "output_type": "execute_result"
    }
   ],
   "source": [
    "df.head()"
   ]
  },
  {
   "cell_type": "code",
   "execution_count": 91,
   "metadata": {},
   "outputs": [
    {
     "data": {
      "text/plain": [
       "p value    0.991864\n",
       "dtype: float64"
      ]
     },
     "execution_count": 91,
     "metadata": {},
     "output_type": "execute_result"
    }
   ],
   "source": [
    "# Check weather data is stationary or Non Stationary\n",
    "# ADF Test\n",
    "from statsmodels.tsa.stattools import adfuller, acf,pacf\n",
    "adf_test=adfuller(df)\n",
    "pd.Series(adf_test[1:2],index=[\"p value\"])"
   ]
  },
  {
   "cell_type": "code",
   "execution_count": 92,
   "metadata": {},
   "outputs": [],
   "source": [
    "# Logarihmic transformation and differnce\n",
    "log_df=np.log(df)\n",
    "mean=log_df.rolling(window=12).mean()\n",
    "scaled_data=log_df-mean\n",
    "scaled_data.dropna(inplace=True)"
   ]
  },
  {
   "cell_type": "code",
   "execution_count": 93,
   "metadata": {},
   "outputs": [
    {
     "data": {
      "image/png": "[encoded data removed]",
      "text/plain": [
       "<Figure size 1080x720 with 1 Axes>"
      ]
     },
     "metadata": {
      "needs_background": "light"
     },
     "output_type": "display_data"
    }
   ],
   "source": [
    "plt.figure(figsize = (15,10))\n",
    "plt.plot(scaled_data)\n",
    "plt.xlabel(\"Date\")\n",
    "plt.ylabel(\"Price\")\n",
    "plt.show()"
   ]
  },
  {
   "cell_type": "code",
   "execution_count": 94,
   "metadata": {},
   "outputs": [
    {
     "data": {
      "image/png": "[encoded data removed]",
      "text/plain": [
       "<Figure size 1080x720 with 1 Axes>"
      ]
     },
     "metadata": {
      "needs_background": "light"
     },
     "output_type": "display_data"
    }
   ],
   "source": [
    "plt.figure(figsize = (15,10))\n",
    "plt.plot(df)\n",
    "plt.xlabel(\"Date\")\n",
    "plt.ylabel(\"Price\")\n",
    "plt.show()"
   ]
  },
  {
   "cell_type": "code",
   "execution_count": 95,
   "metadata": {},
   "outputs": [
    {
     "data": {
      "text/plain": [
       "p value    2.301666e-07\n",
       "dtype: float64"
      ]
     },
     "execution_count": 95,
     "metadata": {},
     "output_type": "execute_result"
    }
   ],
   "source": [
    "# Check weather data is stationary or Non Stationary\n",
    "# ADF Test\n",
    "from statsmodels.tsa.stattools import adfuller, acf,pacf\n",
    "adf_test=adfuller(scaled_data)\n",
    "pd.Series(adf_test[1:2], index=[\"p value\"])"
   ]
  },
  {
   "cell_type": "code",
   "execution_count": 96,
   "metadata": {},
   "outputs": [
    {
     "data": {
      "text/html": [
       "<div>\n",
       "<style scoped>\n",
       "    .dataframe tbody tr th:only-of-type {\n",
       "        vertical-align: middle;\n",
       "    }\n",
       "\n",
       "    .dataframe tbody tr th {\n",
       "        vertical-align: top;\n",
       "    }\n",
       "\n",
       "    .dataframe thead th {\n",
       "        text-align: right;\n",
       "    }\n",
       "</style>\n",
       "<table border=\"1\" class=\"dataframe\">\n",
       "  <thead>\n",
       "    <tr style=\"text-align: right;\">\n",
       "      <th></th>\n",
       "      <th>Price</th>\n",
       "    </tr>\n",
       "    <tr>\n",
       "      <th>Date</th>\n",
       "      <th></th>\n",
       "    </tr>\n",
       "  </thead>\n",
       "  <tbody>\n",
       "    <tr>\n",
       "      <th>1950-12-01</th>\n",
       "      <td>-0.000264</td>\n",
       "    </tr>\n",
       "    <tr>\n",
       "      <th>1951-01-01</th>\n",
       "      <td>-0.000240</td>\n",
       "    </tr>\n",
       "    <tr>\n",
       "      <th>1951-02-01</th>\n",
       "      <td>0.000048</td>\n",
       "    </tr>\n",
       "    <tr>\n",
       "      <th>1951-03-01</th>\n",
       "      <td>0.000048</td>\n",
       "    </tr>\n",
       "    <tr>\n",
       "      <th>1951-04-01</th>\n",
       "      <td>0.000048</td>\n",
       "    </tr>\n",
       "    <tr>\n",
       "      <th>...</th>\n",
       "      <td>...</td>\n",
       "    </tr>\n",
       "    <tr>\n",
       "      <th>2020-03-01</th>\n",
       "      <td>0.088452</td>\n",
       "    </tr>\n",
       "    <tr>\n",
       "      <th>2020-04-01</th>\n",
       "      <td>0.118999</td>\n",
       "    </tr>\n",
       "    <tr>\n",
       "      <th>2020-05-01</th>\n",
       "      <td>0.115753</td>\n",
       "    </tr>\n",
       "    <tr>\n",
       "      <th>2020-06-01</th>\n",
       "      <td>0.106043</td>\n",
       "    </tr>\n",
       "    <tr>\n",
       "      <th>2020-07-01</th>\n",
       "      <td>0.143852</td>\n",
       "    </tr>\n",
       "  </tbody>\n",
       "</table>\n",
       "<p>836 rows × 1 columns</p>\n",
       "</div>"
      ],
      "text/plain": [
       "               Price\n",
       "Date                \n",
       "1950-12-01 -0.000264\n",
       "1951-01-01 -0.000240\n",
       "1951-02-01  0.000048\n",
       "1951-03-01  0.000048\n",
       "1951-04-01  0.000048\n",
       "...              ...\n",
       "2020-03-01  0.088452\n",
       "2020-04-01  0.118999\n",
       "2020-05-01  0.115753\n",
       "2020-06-01  0.106043\n",
       "2020-07-01  0.143852\n",
       "\n",
       "[836 rows x 1 columns]"
      ]
     },
     "execution_count": 96,
     "metadata": {},
     "output_type": "execute_result"
    }
   ],
   "source": [
    "scaled_data"
   ]
  },
  {
   "cell_type": "code",
   "execution_count": 97,
   "metadata": {},
   "outputs": [
    {
     "name": "stderr",
     "output_type": "stream",
     "text": [
      "C:\\ProgramData\\Anaconda3\\lib\\site-packages\\statsmodels\\tsa\\base\\tsa_model.py:524: ValueWarning: No frequency information was provided, so inferred frequency MS will be used.\n",
      "  warnings.warn('No frequency information was'\n",
      "C:\\ProgramData\\Anaconda3\\lib\\site-packages\\statsmodels\\tsa\\ar_model.py:248: FutureWarning: The parameter names will change after 0.12 is released. Set old_names to False to use the new names now. Set old_names to True to use the old names. \n",
      "  warnings.warn(\n"
     ]
    }
   ],
   "source": [
    "from sklearn.model_selection import train_test_split\n",
    "train, test=train_test_split(scaled_data, test_size=0.3, shuffle=False)\n",
    "from statsmodels.tsa.ar_model import AutoReg\n",
    "model=AutoReg(train,lags=12).fit()"
   ]
  },
  {
   "cell_type": "code",
   "execution_count": 98,
   "metadata": {},
   "outputs": [
    {
     "data": {
      "text/html": [
       "<div>\n",
       "<style scoped>\n",
       "    .dataframe tbody tr th:only-of-type {\n",
       "        vertical-align: middle;\n",
       "    }\n",
       "\n",
       "    .dataframe tbody tr th {\n",
       "        vertical-align: top;\n",
       "    }\n",
       "\n",
       "    .dataframe thead th {\n",
       "        text-align: right;\n",
       "    }\n",
       "</style>\n",
       "<table border=\"1\" class=\"dataframe\">\n",
       "  <thead>\n",
       "    <tr style=\"text-align: right;\">\n",
       "      <th></th>\n",
       "      <th>Price</th>\n",
       "    </tr>\n",
       "    <tr>\n",
       "      <th>Date</th>\n",
       "      <th></th>\n",
       "    </tr>\n",
       "  </thead>\n",
       "  <tbody>\n",
       "    <tr>\n",
       "      <th>1999-09-01</th>\n",
       "      <td>-0.050310</td>\n",
       "    </tr>\n",
       "    <tr>\n",
       "      <th>1999-10-01</th>\n",
       "      <td>0.109458</td>\n",
       "    </tr>\n",
       "    <tr>\n",
       "      <th>1999-11-01</th>\n",
       "      <td>0.050417</td>\n",
       "    </tr>\n",
       "    <tr>\n",
       "      <th>1999-12-01</th>\n",
       "      <td>0.018304</td>\n",
       "    </tr>\n",
       "    <tr>\n",
       "      <th>2000-01-01</th>\n",
       "      <td>0.022084</td>\n",
       "    </tr>\n",
       "    <tr>\n",
       "      <th>...</th>\n",
       "      <td>...</td>\n",
       "    </tr>\n",
       "    <tr>\n",
       "      <th>2020-03-01</th>\n",
       "      <td>0.088452</td>\n",
       "    </tr>\n",
       "    <tr>\n",
       "      <th>2020-04-01</th>\n",
       "      <td>0.118999</td>\n",
       "    </tr>\n",
       "    <tr>\n",
       "      <th>2020-05-01</th>\n",
       "      <td>0.115753</td>\n",
       "    </tr>\n",
       "    <tr>\n",
       "      <th>2020-06-01</th>\n",
       "      <td>0.106043</td>\n",
       "    </tr>\n",
       "    <tr>\n",
       "      <th>2020-07-01</th>\n",
       "      <td>0.143852</td>\n",
       "    </tr>\n",
       "  </tbody>\n",
       "</table>\n",
       "<p>251 rows × 1 columns</p>\n",
       "</div>"
      ],
      "text/plain": [
       "               Price\n",
       "Date                \n",
       "1999-09-01 -0.050310\n",
       "1999-10-01  0.109458\n",
       "1999-11-01  0.050417\n",
       "1999-12-01  0.018304\n",
       "2000-01-01  0.022084\n",
       "...              ...\n",
       "2020-03-01  0.088452\n",
       "2020-04-01  0.118999\n",
       "2020-05-01  0.115753\n",
       "2020-06-01  0.106043\n",
       "2020-07-01  0.143852\n",
       "\n",
       "[251 rows x 1 columns]"
      ]
     },
     "execution_count": 98,
     "metadata": {},
     "output_type": "execute_result"
    }
   ],
   "source": [
    "test"
   ]
  },
  {
   "cell_type": "code",
   "execution_count": 99,
   "metadata": {},
   "outputs": [
    {
     "name": "stderr",
     "output_type": "stream",
     "text": [
      "C:\\ProgramData\\Anaconda3\\lib\\site-packages\\statsmodels\\tsa\\deterministic.py:147: UserWarning: Only PeriodIndexes, DatetimeIndexes with a frequency set, RangesIndexes, and Int64Indexes with a unit increment support extending. The index is set will contain the position relative to the data length.\n",
      "  warnings.warn(\n"
     ]
    }
   ],
   "source": [
    "pred=model.predict(start=\"1999-09-01\" , end=\"2020-07-01\")"
   ]
  },
  {
   "cell_type": "code",
   "execution_count": 100,
   "metadata": {},
   "outputs": [
    {
     "name": "stdout",
     "output_type": "stream",
     "text": [
      "R2Score is--> -0.09504624176309862\n",
      "mse is--> 0.006440992880141884\n"
     ]
    }
   ],
   "source": [
    "from sklearn.metrics import r2_score, mean_squared_error\n",
    "score=r2_score(test,pred)\n",
    "mse=mean_squared_error(test, pred)\n",
    "print(\"R2Score is-->\", score)\n",
    "print(\"mse is-->\" ,mse)"
   ]
  },
  {
   "cell_type": "code",
   "execution_count": 101,
   "metadata": {},
   "outputs": [
    {
     "data": {
      "image/png": "[encoded data removed]",
      "text/plain": [
       "<Figure size 432x288 with 1 Axes>"
      ]
     },
     "metadata": {
      "needs_background": "light"
     },
     "output_type": "display_data"
    }
   ],
   "source": [
    "plt.plot(test)\n",
    "plt.plot(pred, color = 'red')\n",
    "plt.show()"
   ]
  },
  {
   "cell_type": "code",
   "execution_count": 102,
   "metadata": {},
   "outputs": [
    {
     "name": "stderr",
     "output_type": "stream",
     "text": [
      "C:\\ProgramData\\Anaconda3\\lib\\site-packages\\statsmodels\\tsa\\stattools.py:652: FutureWarning: The default number of lags is changing from 40 tomin(int(10 * np.log10(nobs)), nobs - 1) after 0.12is released. Set the number of lags to an integer to  silence this warning.\n",
      "  warnings.warn(\n",
      "C:\\ProgramData\\Anaconda3\\lib\\site-packages\\statsmodels\\tsa\\stattools.py:662: FutureWarning: fft=True will become the default after the release of the 0.12 release of statsmodels. To suppress this warning, explicitly set fft=False.\n",
      "  warnings.warn(\n",
      "C:\\ProgramData\\Anaconda3\\lib\\site-packages\\statsmodels\\tsa\\stattools.py:1016: FutureWarning: The default number of lags is changing from 40 tomin(int(10 * np.log10(nobs)), nobs // 2 - 1) after 0.12is released. Set the number of lags to an integer to  silence this warning.\n",
      "  warnings.warn(\n"
     ]
    },
    {
     "data": {
      "image/png": "[encoded data removed]",
      "text/plain": [
       "<Figure size 432x288 with 1 Axes>"
      ]
     },
     "metadata": {
      "needs_background": "light"
     },
     "output_type": "display_data"
    },
    {
     "data": {
      "image/png": "[encoded data removed]",
      "text/plain": [
       "<Figure size 432x288 with 1 Axes>"
      ]
     },
     "metadata": {
      "needs_background": "light"
     },
     "output_type": "display_data"
    }
   ],
   "source": [
    "from statsmodels.tsa.stattools import acf, pacf\n",
    "from statsmodels.graphics.tsaplots import plot_acf, plot_pacf\n",
    "\n",
    "lag_acf = acf(scaled_data)\n",
    "lag_pacf = pacf(scaled_data)\n",
    "\n",
    "plot_acf(lag_acf)\n",
    "plot_pacf(lag_pacf, lags=10)\n",
    "\n",
    "plt.show()\n"
   ]
  },
  {
   "cell_type": "code",
   "execution_count": 103,
   "metadata": {},
   "outputs": [
    {
     "name": "stderr",
     "output_type": "stream",
     "text": [
      "C:\\ProgramData\\Anaconda3\\lib\\site-packages\\statsmodels\\tsa\\base\\tsa_model.py:524: ValueWarning: No frequency information was provided, so inferred frequency MS will be used.\n",
      "  warnings.warn('No frequency information was'\n",
      "C:\\ProgramData\\Anaconda3\\lib\\site-packages\\statsmodels\\tsa\\base\\tsa_model.py:524: ValueWarning: No frequency information was provided, so inferred frequency MS will be used.\n",
      "  warnings.warn('No frequency information was'\n",
      "C:\\ProgramData\\Anaconda3\\lib\\site-packages\\statsmodels\\tsa\\base\\tsa_model.py:524: ValueWarning: No frequency information was provided, so inferred frequency MS will be used.\n",
      "  warnings.warn('No frequency information was'\n",
      "C:\\ProgramData\\Anaconda3\\lib\\site-packages\\statsmodels\\base\\model.py:566: ConvergenceWarning: Maximum Likelihood optimization failed to converge. Check mle_retvals\n",
      "  warnings.warn(\"Maximum Likelihood optimization failed to \"\n"
     ]
    }
   ],
   "source": [
    "from sklearn.model_selection import train_test_split\n",
    "train, test = train_test_split(scaled_data, test_size=0.1, shuffle=False)\n",
    "\n",
    "from statsmodels.tsa.arima.model import ARIMA\n",
    "\n",
    "model_arima = ARIMA(train, order=(10,1,2))\n",
    "\n",
    "model_arima = model_arima.fit()\n"
   ]
  },
  {
   "cell_type": "code",
   "execution_count": 104,
   "metadata": {},
   "outputs": [
    {
     "name": "stderr",
     "output_type": "stream",
     "text": [
      "C:\\ProgramData\\Anaconda3\\lib\\site-packages\\statsmodels\\tsa\\deterministic.py:147: UserWarning: Only PeriodIndexes, DatetimeIndexes with a frequency set, RangesIndexes, and Int64Indexes with a unit increment support extending. The index is set will contain the position relative to the data length.\n",
      "  warnings.warn(\n"
     ]
    }
   ],
   "source": [
    "pred=model.predict(start=\"1999-09-01\" , end=\"2020-07-01\")"
   ]
  },
  {
   "cell_type": "code",
   "execution_count": null,
   "metadata": {},
   "outputs": [],
   "source": []
  }
 ],
 "metadata": {
  "kernelspec": {
   "display_name": "Python 3",
   "language": "python",
   "name": "python3"
  },
  "language_info": {
   "codemirror_mode": {
    "name": "ipython",
    "version": 3
   },
   "file_extension": ".py",
   "mimetype": "text/x-python",
   "name": "python",
   "nbconvert_exporter": "python",
   "pygments_lexer": "ipython3",
   "version": "3.8.5"
  }
 },
 "nbformat": 4,
 "nbformat_minor": 4
}
